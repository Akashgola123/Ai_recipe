{
 "cells": [
  {
   "cell_type": "code",
   "execution_count": 1,
   "id": "420907d8-502f-41c8-879b-0eda38ee3ac3",
   "metadata": {},
   "outputs": [
    {
     "name": "stderr",
     "output_type": "stream",
     "text": [
      "2023-12-26 10:12:47.409041: I tensorflow/core/util/port.cc:113] oneDNN custom operations are on. You may see slightly different numerical results due to floating-point round-off errors from different computation orders. To turn them off, set the environment variable `TF_ENABLE_ONEDNN_OPTS=0`.\n",
      "2023-12-26 10:12:47.604137: E external/local_xla/xla/stream_executor/cuda/cuda_dnn.cc:9261] Unable to register cuDNN factory: Attempting to register factory for plugin cuDNN when one has already been registered\n",
      "2023-12-26 10:12:47.604178: E external/local_xla/xla/stream_executor/cuda/cuda_fft.cc:607] Unable to register cuFFT factory: Attempting to register factory for plugin cuFFT when one has already been registered\n",
      "2023-12-26 10:12:47.631552: E external/local_xla/xla/stream_executor/cuda/cuda_blas.cc:1515] Unable to register cuBLAS factory: Attempting to register factory for plugin cuBLAS when one has already been registered\n",
      "2023-12-26 10:12:47.693149: I tensorflow/core/platform/cpu_feature_guard.cc:182] This TensorFlow binary is optimized to use available CPU instructions in performance-critical operations.\n",
      "To enable the following instructions: AVX2 AVX_VNNI FMA, in other operations, rebuild TensorFlow with the appropriate compiler flags.\n"
     ]
    },
    {
     "name": "stdout",
     "output_type": "stream",
     "text": [
      "Python version: 3.11.0rc1\n",
      "Tensorflow version: 2.15.0\n"
     ]
    }
   ],
   "source": [
    "import tensorflow as tf\n",
    "import matplotlib.pyplot as plt\n",
    "import numpy as np\n",
    "import platform\n",
    "import time\n",
    "import pathlib\n",
    "import os\n",
    "import json\n",
    "import zipfile\n",
    "import pandas as pd\n",
    "import graphviz\n",
    "import pydot\n",
    "# from google.colab import files\n",
    "\n",
    "print('Python version:', platform.python_version())\n",
    "print('Tensorflow version:', tf.__version__)"
   ]
  },
  {
   "cell_type": "code",
   "execution_count": 2,
   "id": "1fd33c62-68f9-44a2-aabd-24e6138aa3d3",
   "metadata": {},
   "outputs": [
    {
     "name": "stderr",
     "output_type": "stream",
     "text": [
      "2023-12-26 10:12:50.458303: I external/local_xla/xla/stream_executor/cuda/cuda_executor.cc:887] could not open file to read NUMA node: /sys/bus/pci/devices/0000:01:00.0/numa_node\n",
      "Your kernel may have been built without NUMA support.\n"
     ]
    },
    {
     "data": {
      "text/plain": [
       "[PhysicalDevice(name='/physical_device:GPU:0', device_type='GPU')]"
      ]
     },
     "execution_count": 2,
     "metadata": {},
     "output_type": "execute_result"
    },
    {
     "name": "stderr",
     "output_type": "stream",
     "text": [
      "2023-12-26 10:12:50.495548: I external/local_xla/xla/stream_executor/cuda/cuda_executor.cc:887] could not open file to read NUMA node: /sys/bus/pci/devices/0000:01:00.0/numa_node\n",
      "Your kernel may have been built without NUMA support.\n",
      "2023-12-26 10:12:50.495574: I external/local_xla/xla/stream_executor/cuda/cuda_executor.cc:887] could not open file to read NUMA node: /sys/bus/pci/devices/0000:01:00.0/numa_node\n",
      "Your kernel may have been built without NUMA support.\n"
     ]
    }
   ],
   "source": [
    " tf.config.list_physical_devices('GPU')"
   ]
  },
  {
   "cell_type": "code",
   "execution_count": 3,
   "id": "f2179134-c2d6-4a39-b5aa-ab3f22ac9e54",
   "metadata": {},
   "outputs": [],
   "source": [
    "# gpus = tf.config.experimental.list_physical_devices('GPU')\n",
    "# if gpus:\n",
    "#     try:\n",
    "#         for gpu in gpus:\n",
    "#             tf.config.experimental.set_memory_growth(gpu, True)\n",
    "#     except RuntimeError as e:\n",
    "#         print(e)\n",
    "\n",
    "import tensorflow as tf\n",
    "\n",
    "physical_devices = tf.config.list_physical_devices('GPU')\n",
    "tf.config.experimental.set_memory_growth(physical_devices[0], True)\n"
   ]
  },
  {
   "cell_type": "code",
   "execution_count": 4,
   "id": "d348bd1c-d4fb-4106-9330-cf04b3fa2e73",
   "metadata": {},
   "outputs": [],
   "source": [
    "def load_dataset(silent=False):\n",
    "    dataset_file_names = [\n",
    "        'recipes_raw_nosource_ar.json'\n",
    "    ]\n",
    "\n",
    "    dataset = []\n",
    "\n",
    "    for dataset_file_name in dataset_file_names:\n",
    "        dataset_file_path = os.path.join('/tf/recipce_AI/recipe_path_data', dataset_file_name)\n",
    "\n",
    "        with open(dataset_file_path, 'r', encoding='utf-8') as dataset_file:\n",
    "            json_data_dict = json.load(dataset_file)\n",
    "            json_data_list = list(json_data_dict.values())\n",
    "            dict_keys = [key for key in json_data_list[0]]\n",
    "            dict_keys.sort()\n",
    "            dataset += json_data_list\n",
    "\n",
    "            if not silent:\n",
    "                print(dataset_file_path)\n",
    "                print('===========================================')\n",
    "                print('Number of examples: ', len(json_data_list), '\\n')\n",
    "                print('Example object keys:\\n', dict_keys, '\\n')\n",
    "                print('Example object:\\n', json_data_list[0], '\\n')\n",
    "                print('Required keys:\\n')\n",
    "                print('  title: ', json_data_list[0]['title'], '\\n')\n",
    "                print('  ingredients: ', json_data_list[0]['ingredients'], '\\n')\n",
    "                print('  instructions: ', json_data_list[0]['instructions'])\n",
    "                print('\\n\\n')\n",
    "\n",
    "    return dataset\n",
    " "
   ]
  },
  {
   "cell_type": "code",
   "execution_count": 5,
   "id": "29b3ecde-f827-4494-900f-e3f803956e09",
   "metadata": {},
   "outputs": [
    {
     "name": "stdout",
     "output_type": "stream",
     "text": [
      "/tf/recipce_AI/recipe_path_data/recipes_raw_nosource_ar.json\n",
      "===========================================\n",
      "Number of examples:  39802 \n",
      "\n",
      "Example object keys:\n",
      " ['ingredients', 'instructions', 'picture_link', 'title'] \n",
      "\n",
      "Example object:\n",
      " {'title': 'Slow Cooker Chicken and Dumplings', 'ingredients': ['4 skinless, boneless chicken breast halves ADVERTISEMENT', '2 tablespoons butter ADVERTISEMENT', '2 (10.75 ounce) cans condensed cream of chicken soup ADVERTISEMENT', '1 onion, finely diced ADVERTISEMENT', '2 (10 ounce) packages refrigerated biscuit dough, torn into pieces ADVERTISEMENT', 'ADVERTISEMENT'], 'instructions': 'Place the chicken, butter, soup, and onion in a slow cooker, and fill with enough water to cover.\\nCover, and cook for 5 to 6 hours on High. About 30 minutes before serving, place the torn biscuit dough in the slow cooker. Cook until the dough is no longer raw in the center.\\n', 'picture_link': '55lznCYBbs2mT8BTx6BTkLhynGHzM.S'} \n",
      "\n",
      "Required keys:\n",
      "\n",
      "  title:  Slow Cooker Chicken and Dumplings \n",
      "\n",
      "  ingredients:  ['4 skinless, boneless chicken breast halves ADVERTISEMENT', '2 tablespoons butter ADVERTISEMENT', '2 (10.75 ounce) cans condensed cream of chicken soup ADVERTISEMENT', '1 onion, finely diced ADVERTISEMENT', '2 (10 ounce) packages refrigerated biscuit dough, torn into pieces ADVERTISEMENT', 'ADVERTISEMENT'] \n",
      "\n",
      "  instructions:  Place the chicken, butter, soup, and onion in a slow cooker, and fill with enough water to cover.\n",
      "Cover, and cook for 5 to 6 hours on High. About 30 minutes before serving, place the torn biscuit dough in the slow cooker. Cook until the dough is no longer raw in the center.\n",
      "\n",
      "\n",
      "\n",
      "\n"
     ]
    }
   ],
   "source": [
    "dataset_raw = load_dataset()  "
   ]
  },
  {
   "cell_type": "code",
   "execution_count": 6,
   "id": "6053f56d-5fff-44d0-b32c-be4dbb0421ec",
   "metadata": {},
   "outputs": [
    {
     "name": "stdout",
     "output_type": "stream",
     "text": [
      "Total number of raw examples:  39802\n"
     ]
    }
   ],
   "source": [
    "print('Total number of raw examples: ', len(dataset_raw))"
   ]
  },
  {
   "cell_type": "code",
   "execution_count": 7,
   "id": "c18a0965-2ac7-4601-96d1-6a6024a65250",
   "metadata": {},
   "outputs": [],
   "source": [
    "\n",
    "\n",
    "\n",
    "def cleaning_dataset(recipe, cleaned_titles):\n",
    "    required_keys = ['title', 'ingredients', 'instructions']\n",
    "    for key in required_keys:\n",
    "        if key not in recipe or not recipe[key]:\n",
    "            return False\n",
    "        if type(recipe[key]) == list and len(recipe[key]) == 0:\n",
    "            return False\n",
    "    title = recipe['title'].lower()\n",
    "    title_tuple = tuple(title)  # Convert title to tuple\n",
    "\n",
    "    if title_tuple in cleaned_titles:\n",
    "        return False\n",
    "\n",
    "    cleaned_titles.add(title_tuple)\n",
    "    return True\n",
    "\n"
   ]
  },
  {
   "cell_type": "code",
   "execution_count": 8,
   "id": "78d08fe9-89b7-4b54-94c9-f4301cf0dae5",
   "metadata": {},
   "outputs": [
    {
     "name": "stdout",
     "output_type": "stream",
     "text": [
      "Dataset size BEFORE validation 39802\n",
      "Dataset size AFTER validation 39057\n",
      "Number of invalide recipes 745\n"
     ]
    }
   ],
   "source": [
    "cleaned_titles = set()\n",
    "dataset_validated = [recipe for recipe in dataset_raw if cleaning_dataset(recipe,cleaned_titles)]\n",
    "\n",
    "print('Dataset size BEFORE validation', len(dataset_raw))\n",
    "print('Dataset size AFTER validation', len(dataset_validated))\n",
    "print('Number of invalide recipes', len(dataset_raw) - len(dataset_validated))"
   ]
  },
  {
   "cell_type": "code",
   "execution_count": 9,
   "id": "a398cd20-2167-4620-9680-1d59b4b61e9b",
   "metadata": {},
   "outputs": [],
   "source": [
    "STOP_WORD_TITLE = '📗 '\n",
    "STOP_WORD_INGREDIENTS = '\\n🥕\\n\\n'\n",
    "STOP_WORD_INSTRUCTIONS = '\\n📝\\n\\n'\n"
   ]
  },
  {
   "cell_type": "code",
   "execution_count": 10,
   "id": "5c296e37-ce75-419b-9260-277b0a94dd1d",
   "metadata": {},
   "outputs": [],
   "source": [
    "# Converts recipe object to string (sequence of characters) for later usage in RNN input.\n",
    "def cooking_to_string(recipe):\n",
    "    # This string is presented as a part of recipes so we need to clean it up.\n",
    "    noize_string = 'ADVERTISEMENT'\n",
    "    \n",
    "    title = recipe['title']\n",
    "    ingredients = recipe['ingredients']\n",
    "    instructions = recipe['instructions'].split('\\n')\n",
    "    \n",
    "    ingredients_string = ''\n",
    "    for ingredient in ingredients:\n",
    "        ingredient = ingredient.replace(noize_string, '')\n",
    "        if ingredient:\n",
    "            ingredients_string += f'• {ingredient}\\n'\n",
    "    \n",
    "    instructions_string = ''\n",
    "    for instruction in instructions:\n",
    "        instruction = instruction.replace(noize_string, '')\n",
    "        if instruction:\n",
    "            instructions_string += f'▪︎ {instruction}\\n'\n",
    "    \n",
    "    return f'{STOP_WORD_TITLE}{title}\\n{STOP_WORD_INGREDIENTS}{ingredients_string}{STOP_WORD_INSTRUCTIONS}{instructions_string}'"
   ]
  },
  {
   "cell_type": "code",
   "execution_count": 11,
   "id": "fd38370c-a9c0-41b3-8ddf-8e7f5649fcb2",
   "metadata": {},
   "outputs": [
    {
     "name": "stdout",
     "output_type": "stream",
     "text": [
      "Stringified dataset size:  39057\n"
     ]
    }
   ],
   "source": [
    "dataset_stringified = [cooking_to_string(recipe) for recipe in dataset_validated]\n",
    "\n",
    "print('Stringified dataset size: ', len(dataset_stringified))"
   ]
  },
  {
   "cell_type": "code",
   "execution_count": 12,
   "id": "2f0b6c11-ee7d-4131-8cdf-b0c34eaf2834",
   "metadata": {},
   "outputs": [
    {
     "name": "stdout",
     "output_type": "stream",
     "text": [
      "Recipe #1\n",
      "---------\n",
      "📗 Slow Cooker Chicken and Dumplings\n",
      "\n",
      "🥕\n",
      "\n",
      "• 4 skinless, boneless chicken breast halves \n",
      "• 2 tablespoons butter \n",
      "• 2 (10.75 ounce) cans condensed cream of chicken soup \n",
      "• 1 onion, finely diced \n",
      "• 2 (10 ounce) packages refrigerated biscuit dough, torn into pieces \n",
      "\n",
      "📝\n",
      "\n",
      "▪︎ Place the chicken, butter, soup, and onion in a slow cooker, and fill with enough water to cover.\n",
      "▪︎ Cover, and cook for 5 to 6 hours on High. About 30 minutes before serving, place the torn biscuit dough in the slow cooker. Cook until the dough is no longer raw in the center.\n",
      "\n",
      "\n",
      "\n",
      "Recipe #2\n",
      "---------\n",
      "📗 Awesome Slow Cooker Pot Roast\n",
      "\n",
      "🥕\n",
      "\n",
      "• 2 (10.75 ounce) cans condensed cream of mushroom soup \n",
      "• 1 (1 ounce) package dry onion soup mix \n",
      "• 1 1/4 cups water \n",
      "• 5 1/2 pounds pot roast \n",
      "\n",
      "📝\n",
      "\n",
      "▪︎ In a slow cooker, mix cream of mushroom soup, dry onion soup mix and water. Place pot roast in slow cooker and coat with soup mixture.\n",
      "▪︎ Cook on High setting for 3 to 4 hours, or on Low setting for 8 to 9 hours.\n",
      "\n",
      "\n",
      "\n",
      "Recipe #3\n",
      "---------\n",
      "📗 Brown Sugar Meatloaf\n",
      "\n",
      "🥕\n",
      "\n",
      "• 1/2 cup packed brown sugar \n",
      "• 1/2 cup ketchup \n",
      "• 1 1/2 pounds lean ground beef \n",
      "• 3/4 cup milk \n",
      "• 2 eggs \n",
      "• 1 1/2 teaspoons salt \n",
      "• 1/4 teaspoon ground black pepper \n",
      "• 1 small onion, chopped \n",
      "• 1/4 teaspoon ground ginger \n",
      "• 3/4 cup finely crushed saltine cracker crumbs \n",
      "\n",
      "📝\n",
      "\n",
      "▪︎ Preheat oven to 350 degrees F (175 degrees C). Lightly grease a 5x9 inch loaf pan.\n",
      "▪︎ Press the brown sugar in the bottom of the prepared loaf pan and spread the ketchup over the sugar.\n",
      "▪︎ In a mixing bowl, mix thoroughly all remaining ingredients and shape into a loaf. Place on top of the ketchup.\n",
      "▪︎ Bake in preheated oven for 1 hour or until juices are clear.\n",
      "\n",
      "\n",
      "\n",
      "Recipe #4\n",
      "---------\n",
      "📗 Best Chocolate Chip Cookies\n",
      "\n",
      "🥕\n",
      "\n",
      "• 1 cup butter, softened \n",
      "• 1 cup white sugar \n",
      "• 1 cup packed brown sugar \n",
      "• 2 eggs \n",
      "• 2 teaspoons vanilla extract \n",
      "• 3 cups all-purpose flour \n",
      "• 1 teaspoon baking soda \n",
      "• 2 teaspoons hot water \n",
      "• 1/2 teaspoon salt \n",
      "• 2 cups semisweet chocolate chips \n",
      "• 1 cup chopped walnuts \n",
      "\n",
      "📝\n",
      "\n",
      "▪︎ Preheat oven to 350 degrees F (175 degrees C).\n",
      "▪︎ Cream together the butter, white sugar, and brown sugar until smooth. Beat in the eggs one at a time, then stir in the vanilla. Dissolve baking soda in hot water. Add to batter along with salt. Stir in flour, chocolate chips, and nuts. Drop by large spoonfuls onto ungreased pans.\n",
      "▪︎ Bake for about 10 minutes in the preheated oven, or until edges are nicely browned.\n",
      "\n",
      "\n",
      "\n",
      "Recipe #5\n",
      "---------\n",
      "📗 Homemade Mac and Cheese Casserole\n",
      "\n",
      "🥕\n",
      "\n",
      "• 8 ounces whole wheat rotini pasta \n",
      "• 3 cups fresh broccoli florets \n",
      "• 1 medium onion, chopped \n",
      "• 3 cloves garlic, minced \n",
      "• 4 tablespoons butter, divided \n",
      "• 2 tablespoons all-purpose flour \n",
      "• 1/4 teaspoon salt \n",
      "• 1/8 teaspoon ground black pepper \n",
      "• 2 1/2 cups milk \n",
      "• 8 ounces Cheddar cheese, shredded \n",
      "• 4 ounces reduced-fat cream cheese, cubed and softened \n",
      "• 1/2 cup fine dry Italian-seasoned bread crumbs \n",
      "• Reynolds Wrap® Non Stick Aluminum Foil \n",
      "\n",
      "📝\n",
      "\n",
      "▪︎ Preheat oven to 350 degrees F. Line a 2-quart casserole dish with Reynolds Wrap(R) Pan Lining Paper, parchment side up. No need to grease dish.\n",
      "▪︎ Cook the pasta in a large saucepan according to the package directions, adding the broccoli for the last 3 minutes of cooking. Drain. Return to the saucepan and set aside.\n",
      "▪︎ Cook the onion and garlic in 2 tablespoons hot butter in a large skillet 5 to 7 minutes or until tender. Stir in flour, salt, and black pepper. Add the milk all at once. Cook and stir over medium heat until slightly thickened and bubbly. Add cheddar cheese and cream cheese, stirring until melted. Pour cheese sauce over the pasta and broccoli and stir until well combined.\n",
      "▪︎ Melt the remaining 2 tablespoons butter and mix with the bread crumbs in a small bowl. Transfer the pasta mixture to the prepared casserole dish. Top with the buttery bread crumbs.\n",
      "▪︎ Bake, uncovered, about 25 minutes or until bubbly and internal temperature is 165 degrees F. Let stand for 10 minutes before serving.\n",
      "\n",
      "\n",
      "\n",
      "Recipe #6\n",
      "---------\n",
      "📗 Banana Banana Bread\n",
      "\n",
      "🥕\n",
      "\n",
      "• 2 cups all-purpose flour \n",
      "• 1 teaspoon baking soda \n",
      "• 1/4 teaspoon salt \n",
      "• 1/2 cup butter \n",
      "• 3/4 cup brown sugar \n",
      "• 2 eggs, beaten \n",
      "• 2 1/3 cups mashed overripe bananas \n",
      "\n",
      "📝\n",
      "\n",
      "▪︎ Preheat oven to 350 degrees F (175 degrees C). Lightly grease a 9x5 inch loaf pan.\n",
      "▪︎ In a large bowl, combine flour, baking soda and salt. In a separate bowl, cream together butter and brown sugar. Stir in eggs and mashed bananas until well blended. Stir banana mixture into flour mixture; stir just to moisten. Pour batter into prepared loaf pan.\n",
      "▪︎ Bake in preheated oven for 60 to 65 minutes, until a toothpick inserted into center of the loaf comes out clean. Let bread cool in pan for 10 minutes, then turn out onto a wire rack.\n",
      "\n",
      "\n",
      "\n",
      "Recipe #7\n",
      "---------\n",
      "📗 Chef John's Fisherman's Pie\n",
      "\n",
      "🥕\n",
      "\n",
      "• For potato crust: \n",
      "• 3 russet potatoes, peeled and cut into chunks \n",
      "• 3 tablespoons butter \n",
      "• 1 pinch freshly grated nutmeg \n",
      "• salt and ground black pepper to taste \n",
      "• 1 pinch cayenne pepper, or to taste \n",
      "• 1/2 cup milk \n",
      "• For the spinach: \n",
      "• 2 teaspoons olive oil \n",
      "• 12 ounces baby spinach leaves \n",
      "• For the sauce: \n",
      "• 3 tablespoons butter \n",
      "• 3 tablespoons all-purpose flour \n",
      "• 2 cloves garlic, minced \n",
      "• 2 cups cold milk, divided \n",
      "• 2 teaspoons lemon zest \n",
      "• For the rest: \n",
      "• 1 tablespoon butter \n",
      "• salt and ground black pepper to taste \n",
      "• 1 pinch cayenne pepper, or to taste \n",
      "• 2 pounds boneless cod fillets \n",
      "• 1/2 lemon, juiced \n",
      "• 1 tablespoon chopped fresh chives for garnish \n",
      "\n",
      "📝\n",
      "\n",
      "▪︎ Bring a large saucepan of salted water and to a boil; add russet potatoes to boiling water and cook until very tender, about 20 minutes. Drain well. Mash in 3 tablespoons butter until thoroughly combined. Season with nutmeg, salt, black pepper, and cayenne pepper to taste. Mash 1/2 cup milk into potato mixture until smooth.\n",
      "▪︎ Drizzle olive oil in a large Dutch oven over medium-high heat, add spinach, and season with a big pinch of salt. Cook, stirring occasionally, until spinach has wilted, about 1 minute. Transfer to a bowl lined with paper towels to wick away excess moisture.\n",
      "▪︎ Heat 3 tablespoons butter and flour in a saucepan over medium heat; whisk mixture to a smooth paste. Cook, stirring constantly, until mixture has a nutty smell and is slightly browned, about 2 minutes. Add chopped garlic; whisk until fragrant, 10 to 20 seconds.\n",
      "▪︎ Whisk 1 cup cold milk into flour mixture; cook until thickened. Whisk in remaining 1 cup milk and lemon zest. Bring white sauce to a gentle simmer, whisking constantly; season with salt. Turn heat to very low and keep sauce warm.\n",
      "▪︎ Preheat oven to 375 degrees F (190 degrees C). Grease an 8x12-inch casserole dish with 1 tablespoon butter.\n",
      "▪︎ Season buttered pan with salt, black pepper, and cayenne pepper. Lay boneless cod fillets into the pan in a single layer. Season tops of fillets with more salt, black pepper, and cayenne pepper. Spread spinach evenly over fish and drizzle with lemon juice. Spoon white sauce over spinach; give casserole dish several taps and shakes to eliminate bubbles.\n",
      "▪︎ Drop mashed potatoes by heaping spoonfuls over the casserole and spread smoothly to cover. Place dish onto a rimmed baking sheet to catch spills.\n",
      "▪︎ Bake in the preheated oven until bubbling, about 40 minutes. Turn on oven's broiler and broil until potato crust has a golden brown top, about 2 minutes. Fish should flake easily. Let stand 10 minutes before serving. Garnish with a sprinkle of chives.\n",
      "\n",
      "\n",
      "\n",
      "Recipe #8\n",
      "---------\n",
      "📗 Mom's Zucchini Bread\n",
      "\n",
      "🥕\n",
      "\n",
      "• 3 cups all-purpose flour \n",
      "• 1 teaspoon salt \n",
      "• 1 teaspoon baking soda \n",
      "• 1 teaspoon baking powder \n",
      "• 1 tablespoon ground cinnamon \n",
      "• 3 eggs \n",
      "• 1 cup vegetable oil \n",
      "• 2 1/4 cups white sugar \n",
      "• 3 teaspoons vanilla extract \n",
      "• 2 cups grated zucchini \n",
      "• 1 cup chopped walnuts \n",
      "\n",
      "📝\n",
      "\n",
      "▪︎ Grease and flour two 8 x 4 inch pans. Preheat oven to 325 degrees F (165 degrees C).\n",
      "▪︎ Sift flour, salt, baking powder, soda, and cinnamon together in a bowl.\n",
      "▪︎ Beat eggs, oil, vanilla, and sugar together in a large bowl. Add sifted ingredients to the creamed mixture, and beat well. Stir in zucchini and nuts until well combined. Pour batter into prepared pans.\n",
      "▪︎ Bake for 40 to 60 minutes, or until tester inserted in the center comes out clean. Cool in pan on rack for 20 minutes. Remove bread from pan, and completely cool.\n",
      "\n",
      "\n",
      "\n",
      "Recipe #9\n",
      "---------\n",
      "📗 The Best Rolled Sugar Cookies\n",
      "\n",
      "🥕\n",
      "\n",
      "• 1 1/2 cups butter, softened \n",
      "• 2 cups white sugar \n",
      "• 4 eggs \n",
      "• 1 teaspoon vanilla extract \n",
      "• 5 cups all-purpose flour \n",
      "• 2 teaspoons baking powder \n",
      "• 1 teaspoon salt \n",
      "\n",
      "📝\n",
      "\n",
      "▪︎ In a large bowl, cream together butter and sugar until smooth. Beat in eggs and vanilla. Stir in the flour, baking powder, and salt. Cover, and chill dough for at least one hour (or overnight).\n",
      "▪︎ Preheat oven to 400 degrees F (200 degrees C). Roll out dough on floured surface 1/4 to 1/2 inch thick. Cut into shapes with any cookie cutter. Place cookies 1 inch apart on ungreased cookie sheets.\n",
      "▪︎ Bake 6 to 8 minutes in preheated oven. Cool completely.\n",
      "\n",
      "\n",
      "\n",
      "Recipe #10\n",
      "---------\n",
      "📗 Singapore Chili Crabs\n",
      "\n",
      "🥕\n",
      "\n",
      "• Sauce: \n",
      "• 1/2 cup ketchup \n",
      "• 1/2 cup chicken broth \n",
      "• 1 large egg \n",
      "• 2 tablespoons soy sauce \n",
      "• 2 tablespoons chile-garlic sauce (such as sambal oelek) \n",
      "• 1 tablespoon oyster sauce \n",
      "• 1 tablespoon tamarind paste \n",
      "• 2 teaspoons fish sauce \n",
      "• 2 teaspoons palm sugar \n",
      "• 1/4 cup minced shallot \n",
      "• 6 cloves garlic, minced \n",
      "• 2 tablespoons vegetable oil, or more as needed \n",
      "• 2 tablespoons minced fresh ginger root \n",
      "• 1 tablespoon minced serrano pepper \n",
      "• 2 cooked Dungeness crabs, cleaned and cracked \n",
      "• 2 tablespoons chopped fresh cilantro \n",
      "• 2 tablespoons sliced green onion (green part only) \n",
      "\n",
      "📝\n",
      "\n",
      "▪︎ Whisk ketchup, chicken broth, egg, soy sauce, chile-garlic sauce, oyster sauce, tamarind paste, fish sauce, and palm sugar together in a bowl.\n",
      "▪︎ Stir shallots, garlic, oil, ginger, and serrano pepper together in a pot over medium-high heat. Saute until sizzling, about 2 minutes. Add crab to pot, cover the pot with a lid, and shake until crab is completely coated in shallot mixture. Remove lid and cook and stir until heated through, about 3 minutes.\n",
      "▪︎ Pour ketchup mixture into pot, reduce heat to medium, and cook and stir until sauce thickens and crab is hot about 5 minutes. Remove from heat; stir in cilantro and green onions.\n",
      "\n",
      "\n",
      "\n"
     ]
    }
   ],
   "source": [
    "for recipe_index, recipe_string in enumerate(dataset_stringified[:10]):\n",
    "    print('Recipe #{}\\n---------'.format(recipe_index + 1))\n",
    "    print(recipe_string)\n",
    "    print('\\n')"
   ]
  },
  {
   "cell_type": "code",
   "execution_count": 13,
   "id": "bdbb6138-26a5-4815-ac3e-81963616a99e",
   "metadata": {},
   "outputs": [
    {
     "name": "stdout",
     "output_type": "stream",
     "text": [
      "📗 Savory Garlic Marinated Steaks\n",
      "\n",
      "🥕\n",
      "\n",
      "• 1/2 cup balsamic vinegar \n",
      "• 1/4 cup soy sauce \n",
      "• 3 tablespoons minced garlic \n",
      "• 2 tablespoons honey \n",
      "• 2 tablespoons olive oil \n",
      "• 2 teaspoons ground black pepper \n",
      "• 1 teaspoon Worcestershire sauce \n",
      "• 1 teaspoon onion powder \n",
      "• 1/2 teaspoon salt \n",
      "• 1/2 teaspoon liquid smoke flavoring \n",
      "• 1 pinch cayenne pepper \n",
      "• 2 (1/2 pound) rib-eye steaks \n",
      "\n",
      "📝\n",
      "\n",
      "▪︎ In a medium bowl, mix the vinegar, soy sauce, garlic, honey, olive oil, ground black pepper, Worcestershire sauce, onion powder, salt, liquid smoke, and cayenne pepper.\n",
      "▪︎ Place steaks in a shallow glass dish with the marinade, and turn to coat. For optimum flavor, rub the liquid into the meat. Cover, and marinate in the refrigerator for 1 to 2 days.\n",
      "▪︎ Preheat grill for medium-high to high heat.\n",
      "▪︎ Lightly oil the grill grate. Grill steaks 7 minutes per side, or to desired doneness. Discard leftover marinade.\n",
      "\n"
     ]
    }
   ],
   "source": [
    "print(dataset_stringified[500])"
   ]
  },
  {
   "cell_type": "code",
   "execution_count": 14,
   "id": "a8ef7271-fd3b-41e9-9747-1a239284eca6",
   "metadata": {},
   "outputs": [],
   "source": [
    "#Recipes have different lengths. We need to have one hard-coded sequence length limit before feeding recipes sequences to RNN. \n",
    "#We need to find out what recipe length will cover most of recipe use-cases and at the same time we want to keep it as small \n",
    "#as possible for training performance.\n",
    "\n",
    "recipes_lengths = []\n",
    "for recipe_text in dataset_stringified:\n",
    "    recipes_lengths.append(len(recipe_text))"
   ]
  },
  {
   "cell_type": "code",
   "execution_count": 15,
   "id": "8b09570a-b0a1-4d71-8a11-789b2675a26d",
   "metadata": {},
   "outputs": [
    {
     "data": {
      "image/png": "[encoded data removed]",
      "text/plain": [
       "<Figure size 640x480 with 1 Axes>"
      ]
     },
     "metadata": {},
     "output_type": "display_data"
    }
   ],
   "source": [
    "plt.hist(recipes_lengths, bins=50)\n",
    "plt.show()"
   ]
  },
  {
   "cell_type": "code",
   "execution_count": 16,
   "id": "67531b70-dcb6-451f-a651-001208bf132a",
   "metadata": {},
   "outputs": [
    {
     "data": {
      "image/png": "[encoded data removed]",
      "text/plain": [
       "<Figure size 640x480 with 1 Axes>"
      ]
     },
     "metadata": {},
     "output_type": "display_data"
    }
   ],
   "source": [
    "plt.hist(recipes_lengths, range=(0, 8000), bins=50)\n",
    "plt.show()"
   ]
  },
  {
   "cell_type": "code",
   "execution_count": 17,
   "id": "7ded7a42-c53a-4dbb-b6e6-cf37fc176ed8",
   "metadata": {},
   "outputs": [],
   "source": [
    "# Looks like a limit of 2000 characters for the recipes will cover 80+% cases.\n",
    "# We may try to train RNN with this maximum recipe length limit.\n",
    "MAX_RECIPE_LENGTH = 2000\n",
    "\n",
    "# if DEBUG:\n",
    "#     MAX_RECIPE_LENGTH = 500"
   ]
  },
  {
   "cell_type": "code",
   "execution_count": 18,
   "id": "9d5ad708-f8b5-4e8a-a6b4-ed5d125d4c4c",
   "metadata": {},
   "outputs": [],
   "source": [
    "def filter_recipes_by_length(recipe_test):\n",
    "    return len(recipe_test) <= MAX_RECIPE_LENGTH "
   ]
  },
  {
   "cell_type": "code",
   "execution_count": 19,
   "id": "af9dc173-0ed5-48df-83ae-db2bc15dcdb8",
   "metadata": {},
   "outputs": [
    {
     "name": "stdout",
     "output_type": "stream",
     "text": [
      "Dataset size BEFORE filtering:  39057\n",
      "Dataset size AFTER filtering:  38318\n",
      "Number of etiminated recipes:  739\n"
     ]
    }
   ],
   "source": [
    "dataset_filtered = [recipe_text for recipe_text in dataset_stringified if filter_recipes_by_length(recipe_text)]\n",
    "\n",
    "print('Dataset size BEFORE filtering: ', len(dataset_stringified))\n",
    "print('Dataset size AFTER filtering: ', len(dataset_filtered))\n",
    "print('Number of etiminated recipes: ', len(dataset_stringified) - len(dataset_filtered))"
   ]
  },
  {
   "cell_type": "code",
   "execution_count": 20,
   "id": "75e8af6a-ffc9-4690-817e-99f394ec58ba",
   "metadata": {},
   "outputs": [
    {
     "name": "stdout",
     "output_type": "stream",
     "text": [
      "MAX_RECIPE_LENGTH:  2000\n",
      "TOTAL_RECIPES_NUM:  38318\n"
     ]
    }
   ],
   "source": [
    "TOTAL_RECIPES_NUM = len(dataset_filtered)\n",
    "\n",
    "print('MAX_RECIPE_LENGTH: ', MAX_RECIPE_LENGTH)\n",
    "print('TOTAL_RECIPES_NUM: ', TOTAL_RECIPES_NUM)"
   ]
  },
  {
   "cell_type": "code",
   "execution_count": 21,
   "id": "a6812818-fce2-45e9-938b-cbe14c4d6b5d",
   "metadata": {},
   "outputs": [],
   "source": [
    "STOP_SIGN = '␣'"
   ]
  },
  {
   "cell_type": "code",
   "execution_count": 22,
   "id": "8050e4c7-1e16-448e-8ffe-0d8a68db36ab",
   "metadata": {},
   "outputs": [],
   "source": [
    "tokenizer = tf.keras.preprocessing.text.Tokenizer(\n",
    "    char_level=True,\n",
    "    filters='',\n",
    "    lower=False,\n",
    "    split=''\n",
    ")"
   ]
  },
  {
   "cell_type": "code",
   "execution_count": 23,
   "id": "d5a29b4b-58a9-4564-bc31-7acfaf70551b",
   "metadata": {},
   "outputs": [],
   "source": [
    "# Stop word is not a part of recipes, but tokenizer must know about it as well.\n",
    "tokenizer.fit_on_texts([STOP_SIGN])"
   ]
  },
  {
   "cell_type": "code",
   "execution_count": 24,
   "id": "dd6482e8-4c07-474c-8dcf-03f2e51ee77d",
   "metadata": {},
   "outputs": [],
   "source": [
    "tokenizer.fit_on_texts(dataset_filtered)"
   ]
  },
  {
   "cell_type": "code",
   "execution_count": 25,
   "id": "2d802aae-6785-4785-a26f-5a2930098450",
   "metadata": {},
   "outputs": [
    {
     "data": {
      "text/plain": [
       "{'num_words': None,\n",
       " 'filters': '',\n",
       " 'lower': False,\n",
       " 'split': '',\n",
       " 'char_level': True,\n",
       " 'oov_token': None,\n",
       " 'document_count': 38319,\n",
       " 'word_counts': '{\"\\\\u2423\": 1, \"\\\\ud83d\\\\udcd7\": 38318, \" \": 5848239, \"S\": 81080, \"l\": 1168288, \"o\": 1958572, \"w\": 298098, \"C\": 89004, \"k\": 309244, \"e\": 3018509, \"r\": 1533670, \"h\": 837927, \"i\": 1539989, \"c\": 980243, \"n\": 1725269, \"a\": 1913745, \"d\": 956778, \"D\": 19325, \"u\": 924476, \"m\": 556952, \"p\": 891405, \"g\": 573768, \"s\": 1448701, \"\\\\n\": 736599, \"\\\\ud83e\\\\udd55\": 38318, \"\\\\u2022\": 344077, \"4\": 76978, \",\": 372523, \"b\": 459181, \"t\": 1861956, \"v\": 224351, \"2\": 171672, \"(\": 64696, \"1\": 336040, \"0\": 61088, \".\": 327776, \"7\": 18219, \"5\": 70270, \")\": 64685, \"f\": 301669, \"y\": 181477, \"\\\\ud83d\\\\udcdd\": 38318, \"\\\\u25aa\": 124296, \"\\\\ufe0e\": 124296, \"P\": 69909, \"6\": 17335, \"H\": 14275, \"A\": 29666, \"3\": 76541, \"R\": 31484, \"x\": 84461, \"/\": 125366, \"I\": 28658, \"L\": 14602, \"8\": 20040, \"9\": 10715, \"B\": 49344, \"M\": 28367, \"F\": 35487, \"j\": 30739, \"-\": 52767, \"W\": 14567, \"\\\\u00ae\": 6760, \"N\": 3023, \"q\": 19116, \"T\": 21859, \";\": 34355, \"\\'\": 10953, \"Z\": 721, \"z\": 30899, \"G\": 15764, \":\": 4077, \"E\": 5551, \"K\": 2821, \"X\": 116, \"\\\\\"\": 853, \"O\": 6820, \"Y\": 1417, \"\\\\u2122\": 386, \"Q\": 1310, \"J\": 3122, \"!\": 792, \"U\": 2639, \"V\": 2859, \"&\": 441, \"+\": 9, \"=\": 6, \"%\": 360, \"*\": 308, \"\\\\u00a9\": 1, \"[\": 1, \"]\": 1, \"\\\\u00e9\": 18, \"<\": 16, \">\": 16, \"\\\\u00bd\": 5, \"#\": 9, \"\\\\u00f1\": 3, \"?\": 6, \"\\\\u2019\": 5, \"\\\\u00b0\": 2, \"\\\\u201d\": 2, \"$\": 1, \"@\": 1, \"{\": 1, \"}\": 1, \"\\\\u2013\": 1, \"\\\\u0096\": 2, \"\\\\u00e0\": 1, \"\\\\u00e2\": 1, \"\\\\u00e8\": 5, \"\\\\u00e1\": 1}',\n",
       " 'word_docs': '{\"\\\\u2423\": 1, \"\\\\u25aa\": 38318, \"3\": 30001, \" \": 38318, \"7\": 14459, \"4\": 30713, \"o\": 38318, \"\\\\n\": 38318, \"D\": 14287, \"b\": 38183, \"v\": 37256, \"i\": 38318, \"0\": 26031, \"s\": 38318, \"e\": 38318, \"h\": 38308, \"g\": 38204, \"d\": 38318, \".\": 38316, \"r\": 38318, \"n\": 38318, \"\\\\ud83e\\\\udd55\": 38318, \"\\\\u2022\": 38318, \",\": 37930, \"y\": 36130, \"A\": 18675, \"C\": 33236, \"\\\\ufe0e\": 38318, \"5\": 27708, \"P\": 30845, \"a\": 38318, \"t\": 38315, \"1\": 38195, \"m\": 38232, \"k\": 37152, \"\\\\ud83d\\\\udcdd\": 38318, \"p\": 38279, \")\": 29770, \"2\": 36903, \"\\\\ud83d\\\\udcd7\": 38318, \"6\": 12909, \"c\": 38317, \"(\": 29773, \"H\": 11435, \"S\": 32882, \"f\": 37350, \"w\": 37825, \"l\": 38316, \"u\": 38312, \"R\": 18928, \"x\": 29383, \"/\": 33818, \"I\": 16885, \"8\": 14345, \"L\": 11086, \"9\": 8782, \"F\": 22550, \"B\": 26971, \"M\": 19011, \"j\": 14491, \"-\": 25549, \"T\": 15183, \"\\\\u00ae\": 4492, \"W\": 10408, \"q\": 11184, \"N\": 2440, \";\": 18191, \"z\": 12930, \"G\": 12054, \"\\'\": 7611, \"Z\": 672, \":\": 2564, \"E\": 4203, \"K\": 2342, \"X\": 109, \"\\\\\"\": 320, \"O\": 5151, \"Y\": 1202, \"\\\\u2122\": 326, \"Q\": 1226, \"J\": 2508, \"!\": 681, \"U\": 2333, \"V\": 2528, \"&\": 332, \"=\": 4, \"+\": 8, \"%\": 318, \"*\": 245, \"\\\\u00a9\": 1, \"[\": 1, \"]\": 1, \"\\\\u00e9\": 16, \"<\": 5, \">\": 5, \"\\\\u00bd\": 5, \"#\": 9, \"\\\\u00f1\": 3, \"?\": 6, \"\\\\u2019\": 5, \"\\\\u00b0\": 2, \"\\\\u201d\": 1, \"@\": 1, \"$\": 1, \"}\": 1, \"{\": 1, \"\\\\u2013\": 1, \"\\\\u0096\": 2, \"\\\\u00e0\": 1, \"\\\\u00e2\": 1, \"\\\\u00e8\": 3, \"\\\\u00e1\": 1}',\n",
       " 'index_docs': '{\"1\": 38318, \"101\": 1, \"31\": 38318, \"37\": 30001, \"60\": 14459, \"36\": 30713, \"3\": 38318, \"16\": 38318, \"58\": 14287, \"19\": 38183, \"27\": 37256, \"7\": 38318, \"42\": 26031, \"9\": 38318, \"2\": 38318, \"15\": 38308, \"17\": 38204, \"12\": 38318, \"23\": 38316, \"8\": 38318, \"6\": 38318, \"46\": 38318, \"21\": 38318, \"20\": 37930, \"28\": 36130, \"53\": 18675, \"33\": 33236, \"32\": 38318, \"38\": 27708, \"39\": 30845, \"4\": 38318, \"5\": 38315, \"22\": 38195, \"18\": 38232, \"24\": 37152, \"47\": 38318, \"14\": 38279, \"41\": 29770, \"29\": 36903, \"45\": 38318, \"61\": 12909, \"11\": 38317, \"40\": 29773, \"65\": 11435, \"35\": 32882, \"25\": 37350, \"26\": 37825, \"10\": 38316, \"13\": 38312, \"50\": 18928, \"34\": 29383, \"30\": 33818, \"54\": 16885, \"57\": 14345, \"63\": 11086, \"67\": 8782, \"48\": 22550, \"44\": 26971, \"55\": 19011, \"52\": 14491, \"43\": 25549, \"56\": 15183, \"69\": 4492, \"64\": 10408, \"59\": 11184, \"73\": 2440, \"49\": 18191, \"51\": 12930, \"62\": 12054, \"66\": 7611, \"81\": 672, \"71\": 2564, \"70\": 4203, \"75\": 2342, \"86\": 109, \"79\": 320, \"68\": 5151, \"77\": 1202, \"83\": 326, \"78\": 1226, \"72\": 2508, \"80\": 681, \"76\": 2333, \"74\": 2528, \"82\": 332, \"92\": 4, \"90\": 8, \"84\": 318, \"85\": 245, \"102\": 1, \"103\": 1, \"104\": 1, \"87\": 16, \"88\": 5, \"89\": 5, \"94\": 5, \"91\": 9, \"97\": 3, \"93\": 6, \"95\": 5, \"98\": 2, \"99\": 1, \"106\": 1, \"105\": 1, \"108\": 1, \"107\": 1, \"109\": 1, \"100\": 2, \"110\": 1, \"111\": 1, \"96\": 3, \"112\": 1}',\n",
       " 'index_word': '{\"1\": \" \", \"2\": \"e\", \"3\": \"o\", \"4\": \"a\", \"5\": \"t\", \"6\": \"n\", \"7\": \"i\", \"8\": \"r\", \"9\": \"s\", \"10\": \"l\", \"11\": \"c\", \"12\": \"d\", \"13\": \"u\", \"14\": \"p\", \"15\": \"h\", \"16\": \"\\\\n\", \"17\": \"g\", \"18\": \"m\", \"19\": \"b\", \"20\": \",\", \"21\": \"\\\\u2022\", \"22\": \"1\", \"23\": \".\", \"24\": \"k\", \"25\": \"f\", \"26\": \"w\", \"27\": \"v\", \"28\": \"y\", \"29\": \"2\", \"30\": \"/\", \"31\": \"\\\\u25aa\", \"32\": \"\\\\ufe0e\", \"33\": \"C\", \"34\": \"x\", \"35\": \"S\", \"36\": \"4\", \"37\": \"3\", \"38\": \"5\", \"39\": \"P\", \"40\": \"(\", \"41\": \")\", \"42\": \"0\", \"43\": \"-\", \"44\": \"B\", \"45\": \"\\\\ud83d\\\\udcd7\", \"46\": \"\\\\ud83e\\\\udd55\", \"47\": \"\\\\ud83d\\\\udcdd\", \"48\": \"F\", \"49\": \";\", \"50\": \"R\", \"51\": \"z\", \"52\": \"j\", \"53\": \"A\", \"54\": \"I\", \"55\": \"M\", \"56\": \"T\", \"57\": \"8\", \"58\": \"D\", \"59\": \"q\", \"60\": \"7\", \"61\": \"6\", \"62\": \"G\", \"63\": \"L\", \"64\": \"W\", \"65\": \"H\", \"66\": \"\\'\", \"67\": \"9\", \"68\": \"O\", \"69\": \"\\\\u00ae\", \"70\": \"E\", \"71\": \":\", \"72\": \"J\", \"73\": \"N\", \"74\": \"V\", \"75\": \"K\", \"76\": \"U\", \"77\": \"Y\", \"78\": \"Q\", \"79\": \"\\\\\"\", \"80\": \"!\", \"81\": \"Z\", \"82\": \"&\", \"83\": \"\\\\u2122\", \"84\": \"%\", \"85\": \"*\", \"86\": \"X\", \"87\": \"\\\\u00e9\", \"88\": \"<\", \"89\": \">\", \"90\": \"+\", \"91\": \"#\", \"92\": \"=\", \"93\": \"?\", \"94\": \"\\\\u00bd\", \"95\": \"\\\\u2019\", \"96\": \"\\\\u00e8\", \"97\": \"\\\\u00f1\", \"98\": \"\\\\u00b0\", \"99\": \"\\\\u201d\", \"100\": \"\\\\u0096\", \"101\": \"\\\\u2423\", \"102\": \"\\\\u00a9\", \"103\": \"[\", \"104\": \"]\", \"105\": \"$\", \"106\": \"@\", \"107\": \"{\", \"108\": \"}\", \"109\": \"\\\\u2013\", \"110\": \"\\\\u00e0\", \"111\": \"\\\\u00e2\", \"112\": \"\\\\u00e1\"}',\n",
       " 'word_index': '{\" \": 1, \"e\": 2, \"o\": 3, \"a\": 4, \"t\": 5, \"n\": 6, \"i\": 7, \"r\": 8, \"s\": 9, \"l\": 10, \"c\": 11, \"d\": 12, \"u\": 13, \"p\": 14, \"h\": 15, \"\\\\n\": 16, \"g\": 17, \"m\": 18, \"b\": 19, \",\": 20, \"\\\\u2022\": 21, \"1\": 22, \".\": 23, \"k\": 24, \"f\": 25, \"w\": 26, \"v\": 27, \"y\": 28, \"2\": 29, \"/\": 30, \"\\\\u25aa\": 31, \"\\\\ufe0e\": 32, \"C\": 33, \"x\": 34, \"S\": 35, \"4\": 36, \"3\": 37, \"5\": 38, \"P\": 39, \"(\": 40, \")\": 41, \"0\": 42, \"-\": 43, \"B\": 44, \"\\\\ud83d\\\\udcd7\": 45, \"\\\\ud83e\\\\udd55\": 46, \"\\\\ud83d\\\\udcdd\": 47, \"F\": 48, \";\": 49, \"R\": 50, \"z\": 51, \"j\": 52, \"A\": 53, \"I\": 54, \"M\": 55, \"T\": 56, \"8\": 57, \"D\": 58, \"q\": 59, \"7\": 60, \"6\": 61, \"G\": 62, \"L\": 63, \"W\": 64, \"H\": 65, \"\\'\": 66, \"9\": 67, \"O\": 68, \"\\\\u00ae\": 69, \"E\": 70, \":\": 71, \"J\": 72, \"N\": 73, \"V\": 74, \"K\": 75, \"U\": 76, \"Y\": 77, \"Q\": 78, \"\\\\\"\": 79, \"!\": 80, \"Z\": 81, \"&\": 82, \"\\\\u2122\": 83, \"%\": 84, \"*\": 85, \"X\": 86, \"\\\\u00e9\": 87, \"<\": 88, \">\": 89, \"+\": 90, \"#\": 91, \"=\": 92, \"?\": 93, \"\\\\u00bd\": 94, \"\\\\u2019\": 95, \"\\\\u00e8\": 96, \"\\\\u00f1\": 97, \"\\\\u00b0\": 98, \"\\\\u201d\": 99, \"\\\\u0096\": 100, \"\\\\u2423\": 101, \"\\\\u00a9\": 102, \"[\": 103, \"]\": 104, \"$\": 105, \"@\": 106, \"{\": 107, \"}\": 108, \"\\\\u2013\": 109, \"\\\\u00e0\": 110, \"\\\\u00e2\": 111, \"\\\\u00e1\": 112}'}"
      ]
     },
     "execution_count": 25,
     "metadata": {},
     "output_type": "execute_result"
    }
   ],
   "source": [
    "tokenizer.get_config()"
   ]
  },
  {
   "cell_type": "code",
   "execution_count": 26,
   "id": "e0a9259d-95ab-4f7e-8a62-38457e9a416c",
   "metadata": {},
   "outputs": [
    {
     "name": "stdout",
     "output_type": "stream",
     "text": [
      "VOCABULARY_SIZE:  113\n"
     ]
    }
   ],
   "source": [
    "VOCABULARY_SIZE = len(tokenizer.word_counts) + 1\n",
    "\n",
    "print('VOCABULARY_SIZE: ', VOCABULARY_SIZE)"
   ]
  },
  {
   "cell_type": "code",
   "execution_count": 27,
   "id": "5985ae35-849a-4455-ba33-1573a4f36803",
   "metadata": {},
   "outputs": [
    {
     "name": "stdout",
     "output_type": "stream",
     "text": [
      "n\n",
      "/\n"
     ]
    }
   ],
   "source": [
    "print(tokenizer.index_word[6])\n",
    "print(tokenizer.index_word[30])"
   ]
  },
  {
   "cell_type": "code",
   "execution_count": 28,
   "id": "123e764d-669c-485c-99e7-bf6f22c2d6b9",
   "metadata": {},
   "outputs": [
    {
     "data": {
      "text/plain": [
       "12"
      ]
     },
     "execution_count": 28,
     "metadata": {},
     "output_type": "execute_result"
    }
   ],
   "source": [
    "tokenizer.word_index['d']"
   ]
  },
  {
   "cell_type": "code",
   "execution_count": 29,
   "id": "f0242314-7f6f-49b5-b28f-3f0ddb54bd04",
   "metadata": {},
   "outputs": [
    {
     "name": "stdout",
     "output_type": "stream",
     "text": [
      "['', ' ', 'e', 'o', 'a', 't', 'n', 'i', 'r', 's', 'l', 'c', 'd', 'u', 'p', 'h', '\\n', 'g', 'm', 'b', ',', '•', '1', '.', 'k', 'f', 'w', 'v', 'y', '2', '/', '▪', '︎', 'C', 'x', 'S', '4', '3', '5', 'P', '(', ')', '0', '-', 'B', '📗', '🥕', '📝', 'F', ';', 'R', 'z', 'j', 'A', 'I', 'M', 'T', '8', 'D', 'q', '7', '6', 'G', 'L', 'W', 'H', \"'\", '9', 'O', '®', 'E', ':', 'J', 'N', 'V', 'K', 'U', 'Y', 'Q', '\"', '!', 'Z', '&', '™', '%', '*', 'X', 'é', '<', '>', '+', '#', '=', '?', '½', '’', 'è', 'ñ', '°', '”', '\\x96', '␣', '©', '[', ']', '$', '@', '{', '}', '–', 'à', 'â', 'á']\n"
     ]
    }
   ],
   "source": [
    "# For demo application we need to have an array of characters as vocabulary.\n",
    "js_vocabulary = tokenizer.sequences_to_texts([[word_index] for word_index in range(VOCABULARY_SIZE)])\n",
    "print([char for char in js_vocabulary])"
   ]
  },
  {
   "cell_type": "code",
   "execution_count": 30,
   "id": "a9a0c396-9801-47d9-99a6-46703af0a65b",
   "metadata": {},
   "outputs": [
    {
     "data": {
      "text/plain": [
       "[[45, 1, 28, 2, 9]]"
      ]
     },
     "execution_count": 30,
     "metadata": {},
     "output_type": "execute_result"
    }
   ],
   "source": [
    "tokenizer.texts_to_sequences(['📗 yes'])"
   ]
  },
  {
   "cell_type": "code",
   "execution_count": 31,
   "id": "344d0139-aaa6-431e-94d4-7ad5f1ab1f16",
   "metadata": {},
   "outputs": [],
   "source": [
    "def recipe_sequence_to_string(recipe_sequence):\n",
    "    recipe_stringified = tokenizer.sequences_to_texts([recipe_sequence])[0]\n",
    "    recipe_stringified = recipe_stringified.replace('   ', '_').replace(' ', '').replace('_', ' ')\n",
    "    print(recipe_stringified)"
   ]
  },
  {
   "cell_type": "code",
   "execution_count": 32,
   "id": "2a13fbb7-6cf2-483d-a5c2-070b11773ae3",
   "metadata": {},
   "outputs": [],
   "source": [
    "dataset_vectorized = tokenizer.texts_to_sequences(dataset_filtered)"
   ]
  },
  {
   "cell_type": "code",
   "execution_count": 33,
   "id": "bc236fa1-e101-4dec-9f37-dae6426adc48",
   "metadata": {},
   "outputs": [
    {
     "name": "stdout",
     "output_type": "stream",
     "text": [
      "Vectorized dataset size 38318\n"
     ]
    }
   ],
   "source": [
    "print('Vectorized dataset size', len(dataset_vectorized))"
   ]
  },
  {
   "cell_type": "code",
   "execution_count": 34,
   "id": "9506779e-ad14-4cd5-a7fc-ce6cb537e855",
   "metadata": {},
   "outputs": [
    {
     "name": "stdout",
     "output_type": "stream",
     "text": [
      "[45, 1, 35, 10, 3, 26, 1, 33, 3, 3] ...\n"
     ]
    }
   ],
   "source": [
    "print(dataset_vectorized[0][:10], '...')"
   ]
  },
  {
   "cell_type": "code",
   "execution_count": 35,
   "id": "8a9a542e-5c2b-414e-8bf6-e456b5a098c0",
   "metadata": {},
   "outputs": [
    {
     "name": "stdout",
     "output_type": "stream",
     "text": [
      "max_index_example:  112\n"
     ]
    }
   ],
   "source": [
    "from tensorflow.keras.preprocessing.sequence import pad_sequences\n",
    "padded_sequences = pad_sequences(dataset_vectorized)\n",
    "max_index_example = np.max(padded_sequences)\n",
    "\n",
    "print('max_index_example: ', max_index_example)"
   ]
  },
  {
   "cell_type": "code",
   "execution_count": 36,
   "id": "cd06cf22-5f42-4231-b38f-2f6a0bb61ccd",
   "metadata": {},
   "outputs": [
    {
     "name": "stdout",
     "output_type": "stream",
     "text": [
      "📗 Awesome Slow Cooker Pot Roast\n",
      "\n",
      "🥕\n",
      "\n",
      "• 2 (10.75 ounce) cans condensed cream of mushroom soup \n",
      "• 1 (1 ounce) package dry onion soup mix \n",
      "• 1 1/4 cups water \n",
      "• 5 1/2 pounds pot roast \n",
      "\n",
      "📝\n",
      "\n",
      "▪︎ In a slow cooker, mix cream of mushroom soup, dry onion soup mix and water. Place pot roast in slow cooker and coat with soup mixture.\n",
      "▪︎ Cook on High setting for 3 to 4 hours, or on Low setting for 8 to 9 hours.\n",
      "\n"
     ]
    }
   ],
   "source": [
    "recipe_sequence_to_string(dataset_vectorized[1])"
   ]
  },
  {
   "cell_type": "code",
   "execution_count": 37,
   "id": "4feadf10-90bc-44db-aa17-c5f9c483a7dc",
   "metadata": {},
   "outputs": [
    {
     "name": "stdout",
     "output_type": "stream",
     "text": [
      "Recipe #1 length: 546\n",
      "Recipe #2 length: 401\n",
      "Recipe #3 length: 671\n",
      "Recipe #4 length: 736\n",
      "Recipe #5 length: 1518\n",
      "Recipe #6 length: 740\n",
      "Recipe #7 length: 839\n",
      "Recipe #8 length: 667\n",
      "Recipe #9 length: 1264\n",
      "Recipe #10 length: 854\n"
     ]
    }
   ],
   "source": [
    "for recipe_index, recipe in enumerate(dataset_vectorized[:10]):\n",
    "    print('Recipe #{} length: {}'.format(recipe_index + 1, len(recipe)))"
   ]
  },
  {
   "cell_type": "code",
   "execution_count": 38,
   "id": "09a09036-6da9-43ff-99bc-9184210d3137",
   "metadata": {},
   "outputs": [],
   "source": [
    "dataset_vectorized_padded_without_stops = tf.keras.preprocessing.sequence.pad_sequences(\n",
    "    dataset_vectorized,\n",
    "    padding='post',\n",
    "    truncating='post',\n",
    "    # We use -1 here and +1 in the next step to make sure that all recipes will have at least 1 stops\n",
    "    # sign at the end, since each sequence will be shifted and truncated afterwards (to generate X and Y sequences).\n",
    "    maxlen=MAX_RECIPE_LENGTH-1,\n",
    "    value=tokenizer.texts_to_sequences([STOP_SIGN])[0]\n",
    ")"
   ]
  },
  {
   "cell_type": "code",
   "execution_count": 39,
   "id": "a85dee59-4005-49a9-bf26-27e093d5d5b0",
   "metadata": {},
   "outputs": [],
   "source": [
    "dataset_vectorized_padded = tf.keras.preprocessing.sequence.pad_sequences(\n",
    "    dataset_vectorized_padded_without_stops,\n",
    "    padding='post',\n",
    "    truncating='post',\n",
    "    maxlen=MAX_RECIPE_LENGTH+1,\n",
    "    value=tokenizer.texts_to_sequences([STOP_SIGN])[0]\n",
    ")"
   ]
  },
  {
   "cell_type": "code",
   "execution_count": 40,
   "id": "692fe092-4d1c-4e64-b674-ad16688546e8",
   "metadata": {},
   "outputs": [
    {
     "name": "stdout",
     "output_type": "stream",
     "text": [
      "Recipe #0 length: 2001\n",
      "Recipe #1 length: 2001\n",
      "Recipe #2 length: 2001\n",
      "Recipe #3 length: 2001\n",
      "Recipe #4 length: 2001\n",
      "Recipe #5 length: 2001\n",
      "Recipe #6 length: 2001\n",
      "Recipe #7 length: 2001\n",
      "Recipe #8 length: 2001\n",
      "Recipe #9 length: 2001\n"
     ]
    }
   ],
   "source": [
    "for recipe_index, recipe in enumerate(dataset_vectorized_padded[:10]):\n",
    "    print('Recipe #{} length: {}'.format(recipe_index, len(recipe)))"
   ]
  },
  {
   "cell_type": "code",
   "execution_count": 41,
   "id": "7111f96c-15ca-4efd-b2aa-7a8360338268",
   "metadata": {},
   "outputs": [
    {
     "name": "stdout",
     "output_type": "stream",
     "text": [
      "📗 Slow Cooker Chicken and Dumplings\n",
      "\n",
      "🥕\n",
      "\n",
      "• 4 skinless, boneless chicken breast halves \n",
      "• 2 tablespoons butter \n",
      "• 2 (10.75 ounce) cans condensed cream of chicken soup \n",
      "• 1 onion, finely diced \n",
      "• 2 (10 ounce) packages refrigerated biscuit dough, torn into pieces \n",
      "\n",
      "📝\n",
      "\n",
      "▪︎ Place the chicken, butter, soup, and onion in a slow cooker, and fill with enough water to cover.\n",
      "▪︎ Cover, and cook for 5 to 6 hours on High. About 30 minutes before serving, place the torn biscuit dough in the slow cooker. Cook until the dough is no longer raw in the center.\n",
      "␣␣␣␣␣␣␣␣␣␣␣␣␣␣␣␣␣␣␣␣␣␣␣␣␣␣␣␣␣␣␣␣␣␣␣␣␣␣␣␣␣␣␣␣␣␣␣␣␣␣␣␣␣␣␣␣␣␣␣␣␣␣␣␣␣␣␣␣␣␣␣␣␣␣␣␣␣␣␣␣␣␣␣␣␣␣␣␣␣␣␣␣␣␣␣␣␣␣␣␣␣␣␣␣␣␣␣␣␣␣␣␣␣␣␣␣␣␣␣␣␣␣␣␣␣␣␣␣␣␣␣␣␣␣␣␣␣␣␣␣␣␣␣␣␣␣␣␣␣␣␣␣␣␣␣␣␣␣␣␣␣␣␣␣␣␣␣␣␣␣␣␣␣␣␣␣␣␣␣␣␣␣␣␣␣␣␣␣␣␣␣␣␣␣␣␣␣␣␣␣␣␣␣␣␣␣␣␣␣␣␣␣␣␣␣␣␣␣␣␣␣␣␣␣␣␣␣␣␣␣␣␣␣␣␣␣␣␣␣␣␣␣␣␣␣␣␣␣␣␣␣␣␣␣␣␣␣␣␣␣␣␣␣␣␣␣␣␣␣␣␣␣␣␣␣␣␣␣␣␣␣␣␣␣␣␣␣␣␣␣␣␣␣␣␣␣␣␣␣␣␣␣␣␣␣␣␣␣␣␣␣␣␣␣␣␣␣␣␣␣␣␣␣␣␣␣␣␣␣␣␣␣␣␣␣␣␣␣␣␣␣␣␣␣␣␣␣␣␣␣␣␣␣␣␣␣␣␣␣␣␣␣␣␣␣␣␣␣␣␣␣␣␣␣␣␣␣␣␣␣␣␣␣␣␣␣␣␣␣␣␣␣␣␣␣␣␣␣␣␣␣␣␣␣␣␣␣␣␣␣␣␣␣␣␣␣␣␣␣␣␣␣␣␣␣␣␣␣␣␣␣␣␣␣␣␣␣␣␣␣␣␣␣␣␣␣␣␣␣␣␣␣␣␣␣␣␣␣␣␣␣␣␣␣␣␣␣␣␣␣␣␣␣␣␣␣␣␣␣␣␣␣␣␣␣␣␣␣␣␣␣␣␣␣␣␣␣␣␣␣␣␣␣␣␣␣␣␣␣␣␣␣␣␣␣␣␣␣␣␣␣␣␣␣␣␣␣␣␣␣␣␣␣␣␣␣␣␣␣␣␣␣␣␣␣␣␣␣␣␣␣␣␣␣␣␣␣␣␣␣␣␣␣␣␣␣␣␣␣␣␣␣␣␣␣␣␣␣␣␣␣␣␣␣␣␣␣␣␣␣␣␣␣␣␣␣␣␣␣␣␣␣␣␣␣␣␣␣␣␣␣␣␣␣␣␣␣␣␣␣␣␣␣␣␣␣␣␣␣␣␣␣␣␣␣␣␣␣␣␣␣␣␣␣␣␣␣␣␣␣␣␣␣␣␣␣␣␣␣␣␣␣␣␣␣␣␣␣␣␣␣␣␣␣␣␣␣␣␣␣␣␣␣␣␣␣␣␣␣␣␣␣␣␣␣␣␣␣␣␣␣␣␣␣␣␣␣␣␣␣␣␣␣␣␣␣␣␣␣␣␣␣␣␣␣␣␣␣␣␣␣␣␣␣␣␣␣␣␣␣␣␣␣␣␣␣␣␣␣␣␣␣␣␣␣␣␣␣␣␣␣␣␣␣␣␣␣␣␣␣␣␣␣␣␣␣␣␣␣␣␣␣␣␣␣␣␣␣␣␣␣␣␣␣␣␣␣␣␣␣␣␣␣␣␣␣␣␣␣␣␣␣␣␣␣␣␣␣␣␣␣␣␣␣␣␣␣␣␣␣␣␣␣␣␣␣␣␣␣␣␣␣␣␣␣␣␣␣␣␣␣␣␣␣␣␣␣␣␣␣␣␣␣␣␣␣␣␣␣␣␣␣␣␣␣␣␣␣␣␣␣␣␣␣␣␣␣␣␣␣␣␣␣␣␣␣␣␣␣␣␣␣␣␣␣␣␣␣␣␣␣␣␣␣␣␣␣␣␣␣␣␣␣␣␣␣␣␣␣␣␣␣␣␣␣␣␣␣␣␣␣␣␣␣␣␣␣␣␣␣␣␣␣␣␣␣␣␣␣␣␣␣␣␣␣␣␣␣␣␣␣␣␣␣␣␣␣␣␣␣␣␣␣␣␣␣␣␣␣␣␣␣␣␣␣␣␣␣␣␣␣␣␣␣␣␣␣␣␣␣␣␣␣␣␣␣␣␣␣␣␣␣␣␣␣␣␣␣␣␣␣␣␣␣␣␣␣␣␣␣␣␣␣␣␣␣␣␣␣␣␣␣␣␣␣␣␣␣␣␣␣␣␣␣␣␣␣␣␣␣␣␣␣␣␣␣␣␣␣␣␣␣␣␣␣␣␣␣␣␣␣␣␣␣␣␣␣␣␣␣␣␣␣␣␣␣␣␣␣␣␣␣␣␣␣␣␣␣␣␣␣␣␣␣␣␣␣␣␣␣␣␣␣␣␣␣␣␣␣␣␣␣␣␣␣␣␣␣␣␣␣␣␣␣␣␣␣␣␣␣␣␣␣␣␣␣␣␣␣␣␣␣␣␣␣␣␣␣␣␣␣␣␣␣␣␣␣␣␣␣␣␣␣␣␣␣␣␣␣␣␣␣␣␣␣␣␣␣␣␣␣␣␣␣␣␣␣␣␣␣␣␣␣␣␣␣␣␣␣␣␣␣␣␣␣␣␣␣␣␣␣␣␣␣␣␣␣␣␣␣␣␣␣␣␣␣␣␣␣␣␣␣␣␣␣␣␣␣␣␣␣␣␣␣␣␣␣␣␣␣␣␣␣␣␣␣␣␣␣␣␣␣␣␣␣␣␣␣␣␣␣␣␣␣␣␣␣␣␣␣␣␣␣␣␣␣␣␣␣␣␣␣␣␣␣␣␣␣␣␣␣␣␣␣␣␣␣␣␣␣␣␣␣␣␣␣␣␣␣␣␣␣␣␣␣␣␣␣␣␣␣␣␣␣␣␣␣␣␣␣␣␣␣␣␣␣␣␣␣␣␣␣␣␣␣␣␣␣␣␣␣␣␣␣␣␣␣␣␣␣␣␣␣␣␣␣␣␣␣␣␣␣␣␣␣␣␣␣␣␣␣␣␣␣␣␣␣␣␣␣␣␣␣␣␣␣␣␣␣␣␣␣␣␣␣␣␣␣␣␣␣␣␣␣␣\n"
     ]
    }
   ],
   "source": [
    "recipe_sequence_to_string(dataset_vectorized_padded[0])"
   ]
  },
  {
   "cell_type": "code",
   "execution_count": 42,
   "id": "c22f3daf-bc75-4300-bfa1-afcbc9fa091a",
   "metadata": {},
   "outputs": [
    {
     "name": "stdout",
     "output_type": "stream",
     "text": [
      "<_TensorSliceDataset element_spec=TensorSpec(shape=(2001,), dtype=tf.int32, name=None)>\n"
     ]
    },
    {
     "name": "stderr",
     "output_type": "stream",
     "text": [
      "2023-12-26 10:12:59.413366: I external/local_xla/xla/stream_executor/cuda/cuda_executor.cc:887] could not open file to read NUMA node: /sys/bus/pci/devices/0000:01:00.0/numa_node\n",
      "Your kernel may have been built without NUMA support.\n",
      "2023-12-26 10:12:59.413461: I external/local_xla/xla/stream_executor/cuda/cuda_executor.cc:887] could not open file to read NUMA node: /sys/bus/pci/devices/0000:01:00.0/numa_node\n",
      "Your kernel may have been built without NUMA support.\n",
      "2023-12-26 10:12:59.413495: I external/local_xla/xla/stream_executor/cuda/cuda_executor.cc:887] could not open file to read NUMA node: /sys/bus/pci/devices/0000:01:00.0/numa_node\n",
      "Your kernel may have been built without NUMA support.\n",
      "2023-12-26 10:12:59.661494: I external/local_xla/xla/stream_executor/cuda/cuda_executor.cc:887] could not open file to read NUMA node: /sys/bus/pci/devices/0000:01:00.0/numa_node\n",
      "Your kernel may have been built without NUMA support.\n",
      "2023-12-26 10:12:59.661561: I external/local_xla/xla/stream_executor/cuda/cuda_executor.cc:887] could not open file to read NUMA node: /sys/bus/pci/devices/0000:01:00.0/numa_node\n",
      "Your kernel may have been built without NUMA support.\n",
      "2023-12-26 10:12:59.661579: I tensorflow/core/common_runtime/gpu/gpu_device.cc:2022] Could not identify NUMA node of platform GPU id 0, defaulting to 0.  Your kernel may not have been built with NUMA support.\n",
      "2023-12-26 10:12:59.661641: I external/local_xla/xla/stream_executor/cuda/cuda_executor.cc:887] could not open file to read NUMA node: /sys/bus/pci/devices/0000:01:00.0/numa_node\n",
      "Your kernel may have been built without NUMA support.\n",
      "2023-12-26 10:12:59.661693: I tensorflow/core/common_runtime/gpu/gpu_device.cc:1929] Created device /job:localhost/replica:0/task:0/device:GPU:0 with 3554 MB memory:  -> device: 0, name: NVIDIA GeForce RTX 4050 Laptop GPU, pci bus id: 0000:01:00.0, compute capability: 8.9\n"
     ]
    }
   ],
   "source": [
    "dataset = tf.data.Dataset.from_tensor_slices(dataset_vectorized_padded)\n",
    "print(dataset)"
   ]
  },
  {
   "cell_type": "code",
   "execution_count": 43,
   "id": "1d8684f3-4872-491b-aee2-1220376a6f21",
   "metadata": {},
   "outputs": [
    {
     "name": "stdout",
     "output_type": "stream",
     "text": [
      "Raw recipe:\n",
      " [ 45   1  35 ... 101 101 101] \n",
      "\n",
      "\n",
      "\n",
      "Stringified recipe:\n",
      "\n",
      "📗 Slow Cooker Chicken and Dumplings\n",
      "\n",
      "🥕\n",
      "\n",
      "• 4 skinless, boneless chicken breast halves \n",
      "• 2 tablespoons butter \n",
      "• 2 (10.75 ounce) cans condensed cream of chicken soup \n",
      "• 1 onion, finely diced \n",
      "• 2 (10 ounce) packages refrigerated biscuit dough, torn into pieces \n",
      "\n",
      "📝\n",
      "\n",
      "▪︎ Place the chicken, butter, soup, and onion in a slow cooker, and fill with enough water to cover.\n",
      "▪︎ Cover, and cook for 5 to 6 hours on High. About 30 minutes before serving, place the torn biscuit dough in the slow cooker. Cook until the dough is no longer raw in the center.\n",
      "␣␣␣␣␣␣␣␣␣␣␣␣␣␣␣␣␣␣␣␣␣␣␣␣␣␣␣␣␣␣␣␣␣␣␣␣␣␣␣␣␣␣␣␣␣␣␣␣␣␣␣␣␣␣␣␣␣␣␣␣␣␣␣␣␣␣␣␣␣␣␣␣␣␣␣␣␣␣␣␣␣␣␣␣␣␣␣␣␣␣␣␣␣␣␣␣␣␣␣␣␣␣␣␣␣␣␣␣␣␣␣␣␣␣␣␣␣␣␣␣␣␣␣␣␣␣␣␣␣␣␣␣␣␣␣␣␣␣␣␣␣␣␣␣␣␣␣␣␣␣␣␣␣␣␣␣␣␣␣␣␣␣␣␣␣␣␣␣␣␣␣␣␣␣␣␣␣␣␣␣␣␣␣␣␣␣␣␣␣␣␣␣␣␣␣␣␣␣␣␣␣␣␣␣␣␣␣␣␣␣␣␣␣␣␣␣␣␣␣␣␣␣␣␣␣␣␣␣␣␣␣␣␣␣␣␣␣␣␣␣␣␣␣␣␣␣␣␣␣␣␣␣␣␣␣␣␣␣␣␣␣␣␣␣␣␣␣␣␣␣␣␣␣␣␣␣␣␣␣␣␣␣␣␣␣␣␣␣␣␣␣␣␣␣␣␣␣␣␣␣␣␣␣␣␣␣␣␣␣␣␣␣␣␣␣␣␣␣␣␣␣␣␣␣␣␣␣␣␣␣␣␣␣␣␣␣␣␣␣␣␣␣␣␣␣␣␣␣␣␣␣␣␣␣␣␣␣␣␣␣␣␣␣␣␣␣␣␣␣␣␣␣␣␣␣␣␣␣␣␣␣␣␣␣␣␣␣␣␣␣␣␣␣␣␣␣␣␣␣␣␣␣␣␣␣␣␣␣␣␣␣␣␣␣␣␣␣␣␣␣␣␣␣␣␣␣␣␣␣␣␣␣␣␣␣␣␣␣␣␣␣␣␣␣␣␣␣␣␣␣␣␣␣␣␣␣␣␣␣␣␣␣␣␣␣␣␣␣␣␣␣␣␣␣␣␣␣␣␣␣␣␣␣␣␣␣␣␣␣␣␣␣␣␣␣␣␣␣␣␣␣␣␣␣␣␣␣␣␣␣␣␣␣␣␣␣␣␣␣␣␣␣␣␣␣␣␣␣␣␣␣␣␣␣␣␣␣␣␣␣␣␣␣␣␣␣␣␣␣␣␣␣␣␣␣␣␣␣␣␣␣␣␣␣␣␣␣␣␣␣␣␣␣␣␣␣␣␣␣␣␣␣␣␣␣␣␣␣␣␣␣␣␣␣␣␣␣␣␣␣␣␣␣␣␣␣␣␣␣␣␣␣␣␣␣␣␣␣␣␣␣␣␣␣␣␣␣␣␣␣␣␣␣␣␣␣␣␣␣␣␣␣␣␣␣␣␣␣␣␣␣␣␣␣␣␣␣␣␣␣␣␣␣␣␣␣␣␣␣␣␣␣␣␣␣␣␣␣␣␣␣␣␣␣␣␣␣␣␣␣␣␣␣␣␣␣␣␣␣␣␣␣␣␣␣␣␣␣␣␣␣␣␣␣␣␣␣␣␣␣␣␣␣␣␣␣␣␣␣␣␣␣␣␣␣␣␣␣␣␣␣␣␣␣␣␣␣␣␣␣␣␣␣␣␣␣␣␣␣␣␣␣␣␣␣␣␣␣␣␣␣␣␣␣␣␣␣␣␣␣␣␣␣␣␣␣␣␣␣␣␣␣␣␣␣␣␣␣␣␣␣␣␣␣␣␣␣␣␣␣␣␣␣␣␣␣␣␣␣␣␣␣␣␣␣␣␣␣␣␣␣␣␣␣␣␣␣␣␣␣␣␣␣␣␣␣␣␣␣␣␣␣␣␣␣␣␣␣␣␣␣␣␣␣␣␣␣␣␣␣␣␣␣␣␣␣␣␣␣␣␣␣␣␣␣␣␣␣␣␣␣␣␣␣␣␣␣␣␣␣␣␣␣␣␣␣␣␣␣␣␣␣␣␣␣␣␣␣␣␣␣␣␣␣␣␣␣␣␣␣␣␣␣␣␣␣␣␣␣␣␣␣␣␣␣␣␣␣␣␣␣␣␣␣␣␣␣␣␣␣␣␣␣␣␣␣␣␣␣␣␣␣␣␣␣␣␣␣␣␣␣␣␣␣␣␣␣␣␣␣␣␣␣␣␣␣␣␣␣␣␣␣␣␣␣␣␣␣␣␣␣␣␣␣␣␣␣␣␣␣␣␣␣␣␣␣␣␣␣␣␣␣␣␣␣␣␣␣␣␣␣␣␣␣␣␣␣␣␣␣␣␣␣␣␣␣␣␣␣␣␣␣␣␣␣␣␣␣␣␣␣␣␣␣␣␣␣␣␣␣␣␣␣␣␣␣␣␣␣␣␣␣␣␣␣␣␣␣␣␣␣␣␣␣␣␣␣␣␣␣␣␣␣␣␣␣␣␣␣␣␣␣␣␣␣␣␣␣␣␣␣␣␣␣␣␣␣␣␣␣␣␣␣␣␣␣␣␣␣␣␣␣␣␣␣␣␣␣␣␣␣␣␣␣␣␣␣␣␣␣␣␣␣␣␣␣␣␣␣␣␣␣␣␣␣␣␣␣␣␣␣␣␣␣␣␣␣␣␣␣␣␣␣␣␣␣␣␣␣␣␣␣␣␣␣␣␣␣␣␣␣␣␣␣␣␣␣␣␣␣␣␣␣␣␣␣␣␣␣␣␣␣␣␣␣␣␣␣␣␣␣␣␣␣␣␣␣␣␣␣␣␣␣␣␣␣␣␣␣␣␣␣␣␣␣␣␣␣␣␣␣␣␣␣␣␣␣␣␣␣␣␣␣␣␣␣␣␣␣␣␣␣␣␣␣␣␣␣␣␣␣␣␣␣␣␣␣␣␣␣␣␣␣␣␣␣␣␣␣␣␣␣␣␣␣␣␣␣␣␣␣␣␣␣␣␣␣␣␣␣␣␣␣␣␣␣␣␣␣␣␣␣␣␣␣␣␣␣␣␣␣␣␣␣␣␣␣␣␣␣␣␣␣␣␣␣␣␣␣␣␣␣␣␣␣␣␣␣␣␣␣␣␣␣␣␣␣␣␣␣␣␣␣␣␣␣␣␣␣␣␣␣␣␣␣␣␣␣␣␣␣␣␣␣␣␣␣␣␣␣␣␣␣␣␣␣␣␣␣␣␣␣␣␣␣\n"
     ]
    }
   ],
   "source": [
    "for recipe in dataset.take(1):\n",
    "    print('Raw recipe:\\n', recipe.numpy(), '\\n\\n\\n')\n",
    "    print('Stringified recipe:\\n')\n",
    "    recipe_sequence_to_string(recipe.numpy())"
   ]
  },
  {
   "cell_type": "code",
   "execution_count": 44,
   "id": "9ea331d0-4d82-483c-9f54-7009897fed57",
   "metadata": {},
   "outputs": [
    {
     "name": "stdout",
     "output_type": "stream",
     "text": [
      "<_MapDataset element_spec=(TensorSpec(shape=(2000,), dtype=tf.int32, name=None), TensorSpec(shape=(2000,), dtype=tf.int32, name=None))>\n"
     ]
    }
   ],
   "source": [
    "def split_input_target(recipe):   \n",
    "    input_text = recipe[:-1]\n",
    "    target_text = recipe[1:]\n",
    "    \n",
    "    return input_text, target_text\n",
    "\n",
    "# dataset_targeted = dataset.map(split_input_target)\n",
    "\n",
    "# print(dataset_targeted)\n",
    "\n",
    "# def split_input_target(recipe):\n",
    "#     input_text = recipe[:-1]\n",
    "#     target_text = recipe[1:]\n",
    "    \n",
    "#     # Ensure target_text is a tensor with an additional dimension\n",
    "#     target_text = tf.expand_dims(target_text, -1)\n",
    "    \n",
    "#     return input_text, target_text\n",
    "\n",
    "dataset_targeted = dataset.map(split_input_target)\n",
    "print(dataset_targeted)"
   ]
  },
  {
   "cell_type": "code",
   "execution_count": 45,
   "id": "c43d4f0d-e999-4201-b760-96c136fe98df",
   "metadata": {},
   "outputs": [
    {
     "name": "stdout",
     "output_type": "stream",
     "text": [
      "Input sequence size: 2000\n",
      "Target sequence size: 2000\n",
      "\n",
      "Input:   '📗   S l o w   C o o k e r   C h i c k e n   a n d   D u m p l i n g s \\n \\n 🥕 \\n \\n •   4   s k i n l e'\n",
      "Target:  '  S l o w   C o o k e r   C h i c k e n   a n d   D u m p l i n g s \\n \\n 🥕 \\n \\n •   4   s k i n l e s'\n"
     ]
    }
   ],
   "source": [
    "for input_example, target_example in dataset_targeted.take(1):\n",
    "    print('Input sequence size:', repr(len(input_example.numpy())))\n",
    "    print('Target sequence size:', repr(len(target_example.numpy())))\n",
    "    print()\n",
    "    \n",
    "    input_stringified = tokenizer.sequences_to_texts([input_example.numpy()[:50]])[0]\n",
    "    target_stringified = tokenizer.sequences_to_texts([target_example.numpy()[:50]])[0]\n",
    "    \n",
    "    print('Input:  ', repr(''.join(input_stringified)))\n",
    "    print('Target: ', repr(''.join(target_stringified))) \n",
    "\n"
   ]
  },
  {
   "cell_type": "code",
   "execution_count": 46,
   "id": "31e3c272-bf3f-42fe-84bc-354050d034dd",
   "metadata": {},
   "outputs": [
    {
     "name": "stdout",
     "output_type": "stream",
     "text": [
      "Step  1\n",
      "  input: 45 ('📗')\n",
      "  expected output: 1 (' ')\n",
      "Step  2\n",
      "  input: 1 (' ')\n",
      "  expected output: 35 ('S')\n",
      "Step  3\n",
      "  input: 35 ('S')\n",
      "  expected output: 10 ('l')\n",
      "Step  4\n",
      "  input: 10 ('l')\n",
      "  expected output: 3 ('o')\n",
      "Step  5\n",
      "  input: 3 ('o')\n",
      "  expected output: 26 ('w')\n",
      "Step  6\n",
      "  input: 26 ('w')\n",
      "  expected output: 1 (' ')\n",
      "Step  7\n",
      "  input: 1 (' ')\n",
      "  expected output: 33 ('C')\n",
      "Step  8\n",
      "  input: 33 ('C')\n",
      "  expected output: 3 ('o')\n",
      "Step  9\n",
      "  input: 3 ('o')\n",
      "  expected output: 3 ('o')\n",
      "Step 10\n",
      "  input: 3 ('o')\n",
      "  expected output: 24 ('k')\n"
     ]
    }
   ],
   "source": [
    "for i, (input_idx, target_idx) in enumerate(zip(input_example[:10], target_example[:10])):\n",
    "    print('Step {:2d}'.format(i + 1))\n",
    "    print('  input: {} ({:s})'.format(input_idx, repr(tokenizer.sequences_to_texts([[input_idx.numpy()]])[0])))\n",
    "    print('  expected output: {} ({:s})'.format(target_idx, repr(tokenizer.sequences_to_texts([[target_idx.numpy()]])[0])))\n"
   ]
  },
  {
   "cell_type": "code",
   "execution_count": 47,
   "id": "3238f9e6-e292-45c0-a435-a712112c0ec8",
   "metadata": {},
   "outputs": [
    {
     "name": "stdout",
     "output_type": "stream",
     "text": [
      "<_MapDataset element_spec=(TensorSpec(shape=(2000,), dtype=tf.int32, name=None), TensorSpec(shape=(2000,), dtype=tf.int32, name=None))>\n"
     ]
    }
   ],
   "source": [
    "print(dataset_targeted)"
   ]
  },
  {
   "cell_type": "code",
   "execution_count": 48,
   "id": "6acaa2b0-0a5a-4466-b760-dc21ebbbb24f",
   "metadata": {},
   "outputs": [
    {
     "name": "stdout",
     "output_type": "stream",
     "text": [
      "TOTAL_RECIPES_NUM:  38318\n",
      "MAX_RECIPE_LENGTH:  2000\n",
      "VOCABULARY_SIZE:  113\n"
     ]
    }
   ],
   "source": [
    "print('TOTAL_RECIPES_NUM: ', TOTAL_RECIPES_NUM)\n",
    "print('MAX_RECIPE_LENGTH: ', MAX_RECIPE_LENGTH)\n",
    "print('VOCABULARY_SIZE: ', VOCABULARY_SIZE)"
   ]
  },
  {
   "cell_type": "code",
   "execution_count": 49,
   "id": "6f5962f1-3dbf-4486-a809-66ba92ef579c",
   "metadata": {},
   "outputs": [
    {
     "name": "stdout",
     "output_type": "stream",
     "text": [
      "<_RepeatDataset element_spec=(TensorSpec(shape=(32, 2000), dtype=tf.int32, name=None), TensorSpec(shape=(32, 2000), dtype=tf.int32, name=None))>\n"
     ]
    }
   ],
   "source": [
    "# Batch size.\n",
    "BATCH_SIZE = 32\n",
    "\n",
    "# Buffer size to shuffle the dataset (TF data is designed to work\n",
    "# with possibly infinite sequences, so it doesn't attempt to shuffle\n",
    "# the entire sequence in memory. Instead, it maintains a buffer in\n",
    "# which it shuffles elements).\n",
    "SHUFFLE_BUFFER_SIZE = 1000\n",
    "\n",
    "dataset_train = dataset_targeted \\\n",
    "    .shuffle(SHUFFLE_BUFFER_SIZE) \\\n",
    "    .batch(BATCH_SIZE, drop_remainder=True) \\\n",
    "    .repeat()\n",
    "\n",
    "print(dataset_train)\n",
    "\n"
   ]
  },
  {
   "cell_type": "code",
   "execution_count": 50,
   "id": "fafcfd67-1f72-4841-95e7-48547a1294ef",
   "metadata": {},
   "outputs": [
    {
     "name": "stdout",
     "output_type": "stream",
     "text": [
      "1st batch: input_text: tf.Tensor(\n",
      "[[ 45   1  44 ... 101 101 101]\n",
      " [ 45   1  39 ... 101 101 101]\n",
      " [ 45   1  33 ... 101 101 101]\n",
      " ...\n",
      " [ 45   1  35 ... 101 101 101]\n",
      " [ 45   1  44 ... 101 101 101]\n",
      " [ 45   1  35 ... 101 101 101]], shape=(32, 2000), dtype=int32)\n",
      "\n",
      "1st batch: target_text: tf.Tensor(\n",
      "[[  1  44   2 ... 101 101 101]\n",
      " [  1  39   7 ... 101 101 101]\n",
      " [  1  33   3 ... 101 101 101]\n",
      " ...\n",
      " [  1  35  10 ... 101 101 101]\n",
      " [  1  44   2 ... 101 101 101]\n",
      " [  1  35   5 ... 101 101 101]], shape=(32, 2000), dtype=int32)\n"
     ]
    }
   ],
   "source": [
    "for input_text, target_text in dataset_train.take(1):\n",
    "    print('1st batch: input_text:', input_text)\n",
    "    print()\n",
    "    print('1st batch: target_text:', target_text)"
   ]
  },
  {
   "cell_type": "code",
   "execution_count": 51,
   "id": "d5df5a2c-dcb0-4137-a9ca-cb0df7732399",
   "metadata": {},
   "outputs": [
    {
     "name": "stdout",
     "output_type": "stream",
     "text": [
      "1/1 [==============================] - 0s 77ms/step\n",
      "tmp_input_array shape: (2, 8)\n",
      "tmp_input_array:\n",
      "[[5 8 7 8 4 1 6 3]\n",
      " [7 2 4 2 5 3 2 6]]\n",
      "\n",
      "tmp_output_array shape: (2, 8, 5)\n",
      "tmp_output_array:\n",
      "[[[ 0.04718179 -0.04465931 -0.01293183 -0.00315758 -0.0411256 ]\n",
      "  [-0.02921771  0.01229727  0.00670003  0.01440426  0.0490559 ]\n",
      "  [-0.03914871 -0.0243445  -0.0134518  -0.04609364  0.01846535]\n",
      "  [-0.02921771  0.01229727  0.00670003  0.01440426  0.0490559 ]\n",
      "  [ 0.01385417 -0.03893701  0.04093664 -0.03083023 -0.03207859]\n",
      "  [ 0.02778218 -0.00232452 -0.0111407   0.00903925 -0.00213547]\n",
      "  [ 0.02891413  0.03816811  0.0161065   0.01730621  0.03812561]\n",
      "  [ 0.0145253  -0.0099897  -0.003488    0.04620108  0.02966226]]\n",
      "\n",
      " [[-0.03914871 -0.0243445  -0.0134518  -0.04609364  0.01846535]\n",
      "  [ 0.04857992 -0.03659602  0.04168096  0.0451888  -0.03676478]\n",
      "  [ 0.01385417 -0.03893701  0.04093664 -0.03083023 -0.03207859]\n",
      "  [ 0.04857992 -0.03659602  0.04168096  0.0451888  -0.03676478]\n",
      "  [ 0.04718179 -0.04465931 -0.01293183 -0.00315758 -0.0411256 ]\n",
      "  [ 0.0145253  -0.0099897  -0.003488    0.04620108  0.02966226]\n",
      "  [ 0.04857992 -0.03659602  0.04168096  0.0451888  -0.03676478]\n",
      "  [ 0.02891413  0.03816811  0.0161065   0.01730621  0.03812561]]]\n"
     ]
    }
   ],
   "source": [
    "tmp_vocab_size = 10\n",
    "tmp_embedding_size = 5\n",
    "tmp_input_length = 8\n",
    "tmp_batch_size = 2\n",
    "\n",
    "tmp_model = tf.keras.models.Sequential()\n",
    "tmp_model.add(tf.keras.layers.Embedding(\n",
    "  input_dim=tmp_vocab_size,\n",
    "  output_dim=tmp_embedding_size,\n",
    "  input_length=tmp_input_length\n",
    "))\n",
    "# The model will take as input an integer matrix of size (batch, input_length).\n",
    "# The largest integer (i.e. word index) in the input should be no larger than 9 (tmp_vocab_size).\n",
    "# Now model.output_shape == (None, 10, 64), where None is the batch dimension.\n",
    "tmp_input_array = np.random.randint(\n",
    "  low=0,\n",
    "  high=tmp_vocab_size,\n",
    "  size=(tmp_batch_size, tmp_input_length)\n",
    ")\n",
    "tmp_model.compile('rmsprop', 'mse')\n",
    "tmp_output_array = tmp_model.predict(tmp_input_array)\n",
    "\n",
    "print('tmp_input_array shape:', tmp_input_array.shape)\n",
    "print('tmp_input_array:')\n",
    "print(tmp_input_array)\n",
    "print()\n",
    "print('tmp_output_array shape:', tmp_output_array.shape)\n",
    "print('tmp_output_array:')\n",
    "print(tmp_output_array)\n"
   ]
  },
  {
   "cell_type": "code",
   "execution_count": 52,
   "id": "ddf7f068-0ea8-4679-9304-cd39153d6f5d",
   "metadata": {},
   "outputs": [
    {
     "name": "stdout",
     "output_type": "stream",
     "text": [
      "Model: \"sequential_1\"\n",
      "_________________________________________________________________\n",
      " Layer (type)                Output Shape              Param #   \n",
      "=================================================================\n",
      " embedding_1 (Embedding)     (32, None, 256)           28928     \n",
      "                                                                 \n",
      " lstm (LSTM)                 (32, None, 1024)          5246976   \n",
      "                                                                 \n",
      " dense (Dense)               (32, None, 113)           115825    \n",
      "                                                                 \n",
      "=================================================================\n",
      "Total params: 5391729 (20.57 MB)\n",
      "Trainable params: 5391729 (20.57 MB)\n",
      "Non-trainable params: 0 (0.00 Byte)\n",
      "_________________________________________________________________\n"
     ]
    }
   ],
   "source": [
    "# def build_model(vocab_size, embedding_dim, rnn_units, batch_size):\n",
    "#     model = tf.keras.models.Sequential()\n",
    "#     lr_schedule = tf.keras.optimizers.schedules.ExponentialDecay(\n",
    "#         initial_learning_rate=1e-3,\n",
    "#         decay_steps=1000,\n",
    "#         decay_rate=0.9,\n",
    "#         staircase=True\n",
    "#     )\n",
    "\n",
    "#     optimizer = tf.keras.optimizers.Adam(learning_rate=lr_schedule)\n",
    "\n",
    "\n",
    "#     model.add(tf.keras.layers.Embedding(\n",
    "#         input_dim=vocab_size,\n",
    "#         output_dim=embedding_dim,\n",
    "#         batch_input_shape=[batch_size, None]\n",
    "#     ))\n",
    "\n",
    "#     model.add(tf.keras.layers.LSTM(\n",
    "#         units=rnn_units, \n",
    "#         return_sequences=True,\n",
    "#         stateful=True, \n",
    "#         recurrent_initializer=tf.keras.initializers.GlorotNormal(),\n",
    "        \n",
    "#         implementation=2\n",
    "#     ))\n",
    "    \n",
    "\n",
    "#     model.add(tf.keras.layers.BatchNormalization())\n",
    "\n",
    "#     model.add(tf.keras.layers.Dropout(0.2))\n",
    "\n",
    "#     optimizer = tf.keras.optimizers.Adam(clipvalue=0.5)\n",
    "\n",
    "#     #model.compile(optimizer=optimizer, loss='categorical_crossentropy', metrics=['accuracy', 'precision', 'recall', 'f1'])\n",
    "\n",
    "#     model.add(tf.keras.layers.Dense(vocab_size))\n",
    "    \n",
    "#     return model\n",
    "\n",
    "# model = build_model(\n",
    "#   vocab_size=VOCABULARY_SIZE,\n",
    "#   embedding_dim=256,\n",
    "#   rnn_units=1024,\n",
    "#   batch_size=BATCH_SIZE\n",
    "# )\n",
    "\n",
    "# model.summary()\n",
    "\n",
    "# import tensorflow as tf\n",
    "# \n",
    "# from tensorflow.keras.models import Sequential\n",
    "# from tensorflow.keras.layers import Embedding, Bidirectional, LSTM, Dense, LayerNormalization, Dropout\n",
    "# from tensorflow.keras.optimizers import Adam\n",
    "# from tensorflow.keras.optimizers.schedules import ExponentialDecay\n",
    "# from tensorflow.keras.callbacks import EarlyStopping\n",
    "\n",
    "# def build_model(vocab_size, embedding_dim, rnn_units, batch_size):\n",
    "#     model = Sequential()\n",
    "\n",
    "#     # Learning rate schedule\n",
    "#     lr_schedule = ExponentialDecay(\n",
    "#         initial_learning_rate=1e-3,\n",
    "#         decay_steps=1000,\n",
    "#         decay_rate=0.9,\n",
    "#         staircase=True\n",
    "#     )\n",
    "\n",
    "#     optimizer = Adam(learning_rate=lr_schedule, clipvalue=0.5)\n",
    "\n",
    "#     model.add(Embedding(\n",
    "#         input_dim=vocab_size,\n",
    "#         output_dim=embedding_dim,\n",
    "#         input_length=2000  # Assuming a sequence length of 500\n",
    "#     ))\n",
    "\n",
    "#     model.add(Bidirectional(LSTM(\n",
    "#         units=rnn_units, \n",
    "#         return_sequences=True,\n",
    "#         stateful=False,  # Set to False for non-stateful training\n",
    "#         recurrent_initializer=tf.keras.initializers.GlorotNormal(),\n",
    "#         implementation=2\n",
    "#     )))\n",
    "\n",
    "#     model.add(LayerNormalization())\n",
    "#     model.add(Dropout(0.2))\n",
    "\n",
    "#     model.add(Dense(vocab_size, activation='softmax'))\n",
    "\n",
    "#     # Compile the model\n",
    "#     model.compile(optimizer=optimizer, loss='sparse_categorical_crossentropy', metrics=['accuracy', 'precision', 'recall', 'f1'])\n",
    "\n",
    "#     return model\n",
    "\n",
    "# # Assuming you have defined VOCABULARY_SIZE, BATCH_SIZE, X_train, y_train, X_val, y_val\n",
    "# VOCABULARY_SIZE = 94\n",
    "# BATCH_SIZE = 32\n",
    "\n",
    "# model = build_model(\n",
    "#     vocab_size=VOCABULARY_SIZE,\n",
    "#     embedding_dim=256,\n",
    "#     rnn_units=1024,\n",
    "#     batch_size=BATCH_SIZE\n",
    "# )\n",
    "\n",
    "# target_example_batch = tf.random.uniform((BATCH_SIZE, 2000), maxval=94, dtype=tf.int32)\n",
    "# example_batch_predictions = tf.random.normal((BATCH_SIZE, 2000, 94))\n",
    "\n",
    "# # Print model summary\n",
    "# model.summary()\n",
    "\n",
    "# # Assuming you have defined X_train, y_train, X_val, y_val\n",
    "# # Train the model with early stopping\n",
    "# early_stopping = EarlyStopping(monitor='val_loss', patience=3, restore_best_weights=True)\n",
    "\n",
    "\n",
    "# model.fit(X_train, y_train, epochs=20, batch_size=BATCH_SIZE, validation_data=(X_val, y_val), callbacks=[early_stopping])\n",
    "# import tensorflow as tf\n",
    "# from tensorflow.keras.models import Sequential\n",
    "# from tensorflow.keras.layers import Embedding, Bidirectional, LSTM, Dense, LayerNormalization, Dropout\n",
    "# from tensorflow.keras.optimizers import Adam\n",
    "# from tensorflow.keras.optimizers.schedules import ExponentialDecay\n",
    "# from tensorflow.keras.callbacks import EarlyStopping\n",
    "\n",
    "# def build_model(vocab_size, embedding_dim, rnn_units, batch_size):\n",
    "#     model = tf.keras.models.Sequential()\n",
    "#     lr_schedule = ExponentialDecay(\n",
    "#         initial_learning_rate=1e-3,\n",
    "#         decay_steps=1000,\n",
    "#         decay_rate=0.9,\n",
    "#         staircase=True\n",
    "#     )\n",
    "#     model.add(tf.keras.layers.Embedding(\n",
    "#         input_dim=vocab_size,\n",
    "#         output_dim=embedding_dim,\n",
    "#         batch_input_shape=[batch_size, None]\n",
    "#     ))\n",
    "\n",
    "#     model.add(Bidirectional(LSTM(\n",
    "#         units=rnn_units, \n",
    "#         return_sequences=True,\n",
    "#         stateful=True,  # Set to False for non-stateful training\n",
    "#         recurrent_initializer=tf.keras.initializers.GlorotNormal(),\n",
    "#         implementation=2\n",
    "#     )))\n",
    "\n",
    "\n",
    "#     model.add(Dense(vocab_size, activation='softmax'))\n",
    "#     model.add(LayerNormalization())\n",
    "#     model.add(Dropout(0.2))\n",
    "#     optimizer = Adam(learning_rate=lr_schedule, clipvalue=0.5)\n",
    "#     # model.compile(optimizer=optimizer, \n",
    "#     #           loss='sparse_categorical_crossentropy',\n",
    "#     #           metrics=['accuracy', 'precision', 'recall', 'f1']\n",
    "#     #          )\n",
    "    \n",
    "#     return model\n",
    "# VOCABULARY_SIZE = 113\n",
    "# BATCH_SIZE = 32\n",
    "# model = build_model(\n",
    "#     vocab_size=VOCABULARY_SIZE,\n",
    "#     embedding_dim=256,\n",
    "#     rnn_units=1024,\n",
    "#     batch_size=BATCH_SIZE\n",
    "# )\n",
    "\n",
    "# model.summary()\n",
    "def build_model(vocab_size, embedding_dim, rnn_units, batch_size):\n",
    "    model = tf.keras.models.Sequential()\n",
    "\n",
    "    model.add(tf.keras.layers.Embedding(\n",
    "        input_dim=vocab_size,\n",
    "        output_dim=embedding_dim,\n",
    "        batch_input_shape=[batch_size, None]\n",
    "    ))\n",
    "\n",
    "    model.add(tf.keras.layers.LSTM(\n",
    "        units=rnn_units,\n",
    "        return_sequences=True,\n",
    "        stateful=True,\n",
    "        recurrent_initializer=tf.keras.initializers.GlorotNormal()\n",
    "    ))\n",
    "\n",
    "    model.add(tf.keras.layers.Dense(vocab_size))\n",
    "    \n",
    "    return model\n",
    "\n",
    "model = build_model(\n",
    "    vocab_size=VOCABULARY_SIZE,\n",
    "    embedding_dim=256,\n",
    "    rnn_units=1024,\n",
    "    batch_size=BATCH_SIZE\n",
    ")\n",
    "\n",
    "model.summary()\n"
   ]
  },
  {
   "cell_type": "code",
   "execution_count": 53,
   "id": "34096774-400a-4970-818a-7de708a546c3",
   "metadata": {},
   "outputs": [
    {
     "name": "stdout",
     "output_type": "stream",
     "text": [
      "You must install pydot (`pip install pydot`) and install graphviz (see instructions at https://graphviz.gitlab.io/download/) for plot_model to work.\n"
     ]
    }
   ],
   "source": [
    "    \n",
    "    tf.keras.utils.plot_model(\n",
    "        model,\n",
    "        show_shapes=True,\n",
    "        show_layer_names=True,\n",
    "        to_file='model.png'\n",
    "    )"
   ]
  },
  {
   "cell_type": "code",
   "execution_count": 54,
   "id": "88a4931f-f82a-4654-8084-ca7c707ccab6",
   "metadata": {},
   "outputs": [
    {
     "name": "stderr",
     "output_type": "stream",
     "text": [
      "2023-12-26 10:13:01.004275: I external/local_xla/xla/stream_executor/cuda/cuda_dnn.cc:454] Loaded cuDNN version 8906\n"
     ]
    },
    {
     "name": "stdout",
     "output_type": "stream",
     "text": [
      "(32, 2000, 113) # (batch_size, sequence_length, vocab_size)\n"
     ]
    }
   ],
   "source": [
    "for input_example_batch, target_example_batch in dataset_train.take(1):\n",
    "    example_batch_predictions = model(input_example_batch)\n",
    "    print(example_batch_predictions.shape, \"# (batch_size, sequence_length, vocab_size)\")\n"
   ]
  },
  {
   "cell_type": "code",
   "execution_count": 55,
   "id": "913e52cb-05f2-4417-89e8-df9cd70b4c84",
   "metadata": {},
   "outputs": [
    {
     "name": "stdout",
     "output_type": "stream",
     "text": [
      "Prediction for the 1st letter of the batch 1st sequense:\n",
      "tf.Tensor(\n",
      "[ 4.0740119e-03  5.4946225e-03 -1.0465346e-03 -2.9471659e-03\n",
      "  2.6832102e-03 -6.5123863e-03 -6.7115789e-03  2.6211794e-03\n",
      "  3.8477166e-03 -1.0411129e-03 -7.2265766e-03  9.4367901e-04\n",
      " -3.3513235e-03  3.1113422e-03 -2.2653416e-03 -3.4869093e-04\n",
      " -2.0187921e-03  2.6271250e-03  4.4936134e-04 -3.6010693e-03\n",
      "  2.1743191e-04  1.7120971e-04  1.9233532e-03  4.4946340e-03\n",
      " -1.0052264e-03  3.7629937e-03  2.2383782e-03  1.5016096e-03\n",
      " -4.9881223e-03  3.8539011e-03 -5.8299134e-04 -2.3029649e-03\n",
      "  6.1773136e-03 -5.2049877e-03 -7.7725283e-04 -1.2968812e-03\n",
      " -3.2332365e-04  4.9897289e-04 -2.8181486e-03 -2.2072769e-03\n",
      "  1.2284329e-03 -1.8991624e-03  1.8855419e-04 -1.7020168e-03\n",
      "  2.2655986e-03 -7.4530952e-04 -1.5921375e-03  2.5348598e-03\n",
      "  2.4484482e-03 -1.0197146e-03 -5.6827766e-06 -9.1437553e-04\n",
      " -5.1540197e-03  3.8917162e-04 -3.2070972e-04  4.9817180e-03\n",
      " -7.2639934e-03  1.7299826e-03  2.1776871e-03 -1.4672335e-03\n",
      "  5.1971213e-03 -2.8968889e-05 -1.4389574e-03  5.6202488e-04\n",
      " -5.5613468e-04 -2.5825652e-03  5.2122190e-04  8.5249328e-04\n",
      "  3.8099675e-03 -3.8602101e-03 -7.9277490e-04 -4.1936003e-03\n",
      " -2.4523784e-04  5.5956068e-03 -2.0632970e-03 -8.3102016e-03\n",
      " -1.3387681e-04 -1.2501626e-03  2.8167469e-03  3.1136726e-03\n",
      " -1.4749591e-03  1.1477370e-03 -3.9582176e-04 -1.5023023e-04\n",
      " -2.0205491e-04  8.2990335e-04 -2.5133004e-03  4.0999060e-03\n",
      "  3.1503423e-03  8.7686982e-03 -2.3486898e-03  1.3609162e-03\n",
      "  1.5246588e-03  6.9752960e-03  4.3095658e-03 -3.6183551e-03\n",
      "  2.3697685e-03  4.1001970e-03  1.0453000e-03  4.3926463e-03\n",
      "  3.0180931e-03 -3.2244271e-03 -2.7521548e-04 -4.4026040e-03\n",
      "  2.0613298e-03  4.8564142e-03 -1.5381023e-03  5.7992428e-03\n",
      " -1.3828800e-03  2.0107075e-03  1.0833950e-03  9.6307450e-04\n",
      " -3.6211112e-03], shape=(113,), dtype=float32)\n"
     ]
    }
   ],
   "source": [
    "print('Prediction for the 1st letter of the batch 1st sequense:')\n",
    "print(example_batch_predictions[0, 0])"
   ]
  },
  {
   "cell_type": "code",
   "execution_count": 56,
   "id": "421edce7-d783-4b9b-a253-37eff08f03a2",
   "metadata": {},
   "outputs": [
    {
     "name": "stdout",
     "output_type": "stream",
     "text": [
      "tf.Tensor([[2 0 2 2 0]], shape=(1, 5), dtype=int64)\n"
     ]
    }
   ],
   "source": [
    "# logits is 2-D Tensor with shape [batch_size, num_classes].\n",
    "# Each slice [i, :] represents the unnormalized log-probabilities for all classes.\n",
    "# In the example below we say that the probability for class \"0\"\n",
    "# (element with index 0) is low but the probability for class \"2\" is much higher.\n",
    "tmp_logits = [\n",
    "  [-0.95, 0, 0.95],\n",
    "]\n",
    "\n",
    "# Let's generate 5 samples. Each sample is a class index. Class probabilities \n",
    "# are being taken into account (we expect to see more samples of class \"2\").\n",
    "tmp_samples = tf.random.categorical(\n",
    "    logits=tmp_logits,\n",
    "    num_samples=5\n",
    ")\n",
    "\n",
    "print(tmp_samples)"
   ]
  },
  {
   "cell_type": "code",
   "execution_count": 57,
   "id": "5ff98b45-8661-4c50-91f6-f82976c3f271",
   "metadata": {},
   "outputs": [
    {
     "data": {
      "text/plain": [
       "(2000,)"
      ]
     },
     "execution_count": 57,
     "metadata": {},
     "output_type": "execute_result"
    }
   ],
   "source": [
    "sampled_indices = tf.random.categorical(\n",
    "    logits=example_batch_predictions[0],\n",
    "    num_samples=1\n",
    ")\n",
    "\n",
    "sampled_indices = tf.squeeze(\n",
    "    input=sampled_indices,\n",
    "    axis=-1\n",
    ").numpy()\n",
    "\n",
    "sampled_indices.shape\n"
   ]
  },
  {
   "cell_type": "code",
   "execution_count": 58,
   "id": "d90fdc2c-548f-4470-9266-28289f69510f",
   "metadata": {},
   "outputs": [
    {
     "data": {
      "text/plain": [
       "array([ 96,  97,  92,   3,   2,  40,  92,  71, 105,  80, 108,  49,  24,\n",
       "        90,   2,  41,  67,  48,  22,  16,  85,  21,  48,  79,  80,  23,\n",
       "       103,  72,  29,  89,  89,  28,   7,  29,  84,  18,  32,  68,  56,\n",
       "        77,   2,  62,  90,  26,   0,  15,  70,  37,  60,  90,  36, 110,\n",
       "        82,  91,  30,  40,  41, 107, 100,  97,  82,  47, 110,  23,  90,\n",
       "         4, 110,  16,  54,  89,  33,  31, 109,  11,   0,  54,  46,   6,\n",
       "         3,  70,  88, 104, 100,  36,  49,  41,  60,  91,  14,  44,  22,\n",
       "        29, 100,  42,  40,  30,  45,  83,  57, 107])"
      ]
     },
     "execution_count": 58,
     "metadata": {},
     "output_type": "execute_result"
    }
   ],
   "source": [
    "sampled_indices[:100]"
   ]
  },
  {
   "cell_type": "code",
   "execution_count": 59,
   "id": "3310a259-24d9-4e83-86ea-a1bd784d0016",
   "metadata": {},
   "outputs": [
    {
     "name": "stdout",
     "output_type": "stream",
     "text": [
      "Input:\n",
      " \"📗   B o b ' s   A w e s o m e   L a s a g n a \\n \\n 🥕 \\n \\n •   8   o u n c e s   l a s a g n a   n o o\"\n",
      "\n",
      "Next char prediction:\n",
      " 'è ñ = o e ( = : $ ! } ; k + e ) 9 F 1 \\n * • F \" ! . [ J 2 > > y i 2 % m ︎ O T Y e G + w h E 3 7 +'\n"
     ]
    }
   ],
   "source": [
    "print('Input:\\n', repr(''.join(tokenizer.sequences_to_texts([input_example_batch[0].numpy()[:50]]))))\n",
    "print()\n",
    "print('Next char prediction:\\n', repr(''.join(tokenizer.sequences_to_texts([sampled_indices[:50]])))) \n"
   ]
  },
  {
   "cell_type": "code",
   "execution_count": 60,
   "id": "51bdd20a-a130-4ed8-b7d5-c1532ebfabca",
   "metadata": {},
   "outputs": [
    {
     "name": "stdout",
     "output_type": "stream",
     "text": [
      "Labels shape:  (32, 2000)\n",
      "Logits shape:  (32, 2000, 113)\n"
     ]
    }
   ],
   "source": [
    "    print(\"Labels shape: \", target_example_batch.shape)\n",
    "    print(\"Logits shape: \", example_batch_predictions.shape)\n"
   ]
  },
  {
   "cell_type": "code",
   "execution_count": 61,
   "id": "b10869ea-db7c-44c3-810d-425be4740130",
   "metadata": {},
   "outputs": [
    {
     "name": "stdout",
     "output_type": "stream",
     "text": [
      "Prediction shape:  (32, 2000, 113)  # (batch_size, sequence_length, vocab_size)\n",
      "scalar_loss.shape:       (32, 2000)\n",
      "scalar_loss:       4.7292995\n"
     ]
    }
   ],
   "source": [
    "# An objective function.\n",
    "# The function is any callable with the signature scalar_loss = fn(y_true, y_pred).\n",
    "\n",
    "\n",
    "\n",
    "def loss(labels, logits):\n",
    "    entropy = tf.keras.losses.sparse_categorical_crossentropy(\n",
    "        y_true=labels,\n",
    "        y_pred=logits,\n",
    "        from_logits=True\n",
    "    )\n",
    "    return entropy\n",
    "\n",
    "example_batch_loss = loss(target_example_batch, example_batch_predictions)\n",
    "\n",
    "print(\"Prediction shape: \", example_batch_predictions.shape, \" # (batch_size, sequence_length, vocab_size)\")\n",
    "print(\"scalar_loss.shape:      \", example_batch_loss.shape)\n",
    "print(\"scalar_loss:      \", example_batch_loss.numpy().mean()) \n"
   ]
  },
  {
   "cell_type": "code",
   "execution_count": 62,
   "id": "bdc08c1e-7d45-4a24-a8ac-3821121e082f",
   "metadata": {},
   "outputs": [],
   "source": [
    "# tf.experimental.numpy.experimental_enable_numpy_behavior()\n",
    "# l = example_batch_predictions.reshape()\n",
    "# print(l)"
   ]
  },
  {
   "cell_type": "code",
   "execution_count": 63,
   "id": "b424307d-f505-4717-a8f6-bd5b513caf52",
   "metadata": {},
   "outputs": [],
   "source": [
    "\n",
    "adam_optimizer = tf.keras.optimizers.Adam(learning_rate=0.001)\n",
    "\n",
    "model.compile(\n",
    "    optimizer=adam_optimizer,\n",
    "    loss=loss,\n",
    "    metrics=['accuracy'] \n",
    ")\n"
   ]
  },
  {
   "cell_type": "code",
   "execution_count": null,
   "id": "7168000f-e2de-4d77-a380-79236cd847e2",
   "metadata": {},
   "outputs": [],
   "source": []
  },
  {
   "cell_type": "code",
   "execution_count": 64,
   "id": "5b88b291-71b2-471d-bf75-81037f24c2f2",
   "metadata": {},
   "outputs": [],
   "source": [
    "early_stopping_callback = tf.keras.callbacks.EarlyStopping(\n",
    "    patience=5,\n",
    "    monitor='loss',\n",
    "    restore_best_weights=True,\n",
    "    verbose=1\n",
    ")\n"
   ]
  },
  {
   "cell_type": "code",
   "execution_count": 65,
   "id": "a501e927-e1a3-47b9-bfb7-50cea08c2153",
   "metadata": {},
   "outputs": [],
   "source": [
    "# Create a checkpoints directory.\n",
    "checkpoint_dir = 'tmp/checkpoints'\n",
    "os.makedirs(checkpoint_dir, exist_ok=True)\n",
    "\n",
    "checkpoint_prefix = os.path.join(checkpoint_dir, 'ckpt_{epoch}')\n",
    "checkpoint_callback=tf.keras.callbacks.ModelCheckpoint(\n",
    "    filepath=checkpoint_prefix,\n",
    "    save_weights_only=True\n",
    ")\n"
   ]
  },
  {
   "cell_type": "code",
   "execution_count": 66,
   "id": "9a6d5c95-3020-4c0b-8422-19fec1fe404e",
   "metadata": {},
   "outputs": [
    {
     "name": "stdout",
     "output_type": "stream",
     "text": [
      "EPOCHS:           1500\n",
      "INITIAL_EPOCH:    1\n",
      "STEPS_PER_EPOCH:  50\n"
     ]
    }
   ],
   "source": [
    "EPOCHS = 1500\n",
    "INITIAL_EPOCH = 1\n",
    "STEPS_PER_EPOCH = 50\n",
    "\n",
    "print('EPOCHS:          ', EPOCHS)\n",
    "print('INITIAL_EPOCH:   ', INITIAL_EPOCH)\n",
    "print('STEPS_PER_EPOCH: ', STEPS_PER_EPOCH)\n"
   ]
  },
  {
   "cell_type": "code",
   "execution_count": null,
   "id": "6b13b4ce-3131-4baf-b504-301afbb7fd6f",
   "metadata": {},
   "outputs": [],
   "source": [
    "val_predictions = [] \n",
    "val_targets = []\n",
    "\n",
    "for x_val, y_val in dataset_train:\n",
    "    predictions = model(x_val)\n",
    "    predictions = tf.argmax(predictions, axis=-1)\n",
    "    val_predictions.extend(predictions.numpy())\n",
    "    val_targets.extend(y_val.numpy())\n",
    "\n",
    "# Calculate precision\n",
    "precision = precision_score(val_targets, val_predictions, average='weighted')\n",
    "print(f'Precision: {precision:.4f}')\n",
    "\n",
    "# Calculate and display confusion matrix\n",
    "conf_matrix = confusion_matrix(val_targets, val_predictions)\n",
    "print('Confusion Matrix:')\n",
    "print(conf_matrix)"
   ]
  },
  {
   "cell_type": "code",
   "execution_count": 68,
   "id": "e7ef2590-54e6-43ae-bad3-6d2d42425140",
   "metadata": {},
   "outputs": [],
   "source": [
    "# evaluate_model(model, dataset_test)"
   ]
  },
  {
   "cell_type": "code",
   "execution_count": 69,
   "id": "28d9e36d-a069-4c46-bb57-f05890cb894d",
   "metadata": {},
   "outputs": [
    {
     "name": "stdout",
     "output_type": "stream",
     "text": [
      "Epoch 2/1500\n"
     ]
    },
    {
     "name": "stderr",
     "output_type": "stream",
     "text": [
      "2023-12-26 10:13:03.210572: I external/local_xla/xla/service/service.cc:168] XLA service 0x7f14cd64bed0 initialized for platform CUDA (this does not guarantee that XLA will be used). Devices:\n",
      "2023-12-26 10:13:03.210600: I external/local_xla/xla/service/service.cc:176]   StreamExecutor device (0): NVIDIA GeForce RTX 4050 Laptop GPU, Compute Capability 8.9\n",
      "2023-12-26 10:13:03.222089: I tensorflow/compiler/mlir/tensorflow/utils/dump_mlir_util.cc:269] disabling MLIR crash reproducer, set env var `MLIR_CRASH_REPRODUCER_DIRECTORY` to enable.\n",
      "WARNING: All log messages before absl::InitializeLog() is called are written to STDERR\n",
      "I0000 00:00:1703585583.297447    2945 device_compiler.h:186] Compiled cluster using XLA!  This line is logged at most once for the lifetime of the process.\n"
     ]
    },
    {
     "name": "stdout",
     "output_type": "stream",
     "text": [
      "50/50 [==============================] - 21s 372ms/step - loss: 1.7415 - accuracy: 0.6139\n",
      "Epoch 3/1500\n",
      "50/50 [==============================] - 18s 365ms/step - loss: 1.2794 - accuracy: 0.6603\n",
      "Epoch 4/1500\n",
      "50/50 [==============================] - 18s 365ms/step - loss: 1.0009 - accuracy: 0.7163\n",
      "Epoch 5/1500\n",
      "50/50 [==============================] - 18s 365ms/step - loss: 0.8742 - accuracy: 0.7465\n",
      "Epoch 6/1500\n",
      "50/50 [==============================] - 18s 365ms/step - loss: 0.7914 - accuracy: 0.7703\n",
      "Epoch 7/1500\n",
      "50/50 [==============================] - 18s 364ms/step - loss: 0.6984 - accuracy: 0.7975\n",
      "Epoch 8/1500\n",
      "50/50 [==============================] - 18s 364ms/step - loss: 0.6400 - accuracy: 0.8159\n",
      "Epoch 9/1500\n",
      "50/50 [==============================] - 18s 363ms/step - loss: 0.5937 - accuracy: 0.8283\n",
      "Epoch 10/1500\n",
      "50/50 [==============================] - 18s 368ms/step - loss: 0.5426 - accuracy: 0.8429\n",
      "Epoch 11/1500\n",
      "50/50 [==============================] - 18s 369ms/step - loss: 0.5042 - accuracy: 0.8539\n",
      "Epoch 12/1500\n",
      "50/50 [==============================] - 18s 366ms/step - loss: 0.4772 - accuracy: 0.8622\n",
      "Epoch 13/1500\n",
      "50/50 [==============================] - 18s 363ms/step - loss: 0.4820 - accuracy: 0.8603\n",
      "Epoch 14/1500\n",
      "50/50 [==============================] - 18s 364ms/step - loss: 0.4441 - accuracy: 0.8714\n",
      "Epoch 15/1500\n",
      "50/50 [==============================] - 18s 363ms/step - loss: 0.4326 - accuracy: 0.8747\n",
      "Epoch 16/1500\n",
      "50/50 [==============================] - 18s 365ms/step - loss: 0.4073 - accuracy: 0.8815\n",
      "Epoch 17/1500\n",
      "50/50 [==============================] - 18s 363ms/step - loss: 0.4005 - accuracy: 0.8836\n",
      "Epoch 18/1500\n",
      "50/50 [==============================] - 18s 364ms/step - loss: 0.3839 - accuracy: 0.8881\n",
      "Epoch 19/1500\n",
      "50/50 [==============================] - 18s 364ms/step - loss: 0.3682 - accuracy: 0.8922\n",
      "Epoch 20/1500\n",
      "50/50 [==============================] - 18s 364ms/step - loss: 0.3674 - accuracy: 0.8925\n",
      "Epoch 21/1500\n",
      "50/50 [==============================] - 18s 364ms/step - loss: 0.3535 - accuracy: 0.8964\n",
      "Epoch 22/1500\n",
      "50/50 [==============================] - 18s 364ms/step - loss: 0.3578 - accuracy: 0.8946\n",
      "Epoch 23/1500\n",
      "50/50 [==============================] - 18s 364ms/step - loss: 0.3585 - accuracy: 0.8942\n",
      "Epoch 24/1500\n",
      "50/50 [==============================] - 18s 364ms/step - loss: 0.3728 - accuracy: 0.8915\n",
      "Epoch 25/1500\n",
      "50/50 [==============================] - 18s 364ms/step - loss: 0.3655 - accuracy: 0.8921\n",
      "Epoch 26/1500\n",
      "50/50 [==============================] - 18s 364ms/step - loss: 0.2793 - accuracy: 0.9153\n",
      "Epoch 27/1500\n",
      "50/50 [==============================] - 18s 366ms/step - loss: 0.2768 - accuracy: 0.9160\n",
      "Epoch 28/1500\n",
      "50/50 [==============================] - 18s 364ms/step - loss: 0.2760 - accuracy: 0.9163\n",
      "Epoch 29/1500\n",
      "50/50 [==============================] - 18s 365ms/step - loss: 0.2695 - accuracy: 0.9179\n",
      "Epoch 30/1500\n",
      "50/50 [==============================] - 19s 371ms/step - loss: 0.2752 - accuracy: 0.9161\n",
      "Epoch 31/1500\n",
      "50/50 [==============================] - 19s 375ms/step - loss: 0.2718 - accuracy: 0.9171\n",
      "Epoch 32/1500\n",
      "50/50 [==============================] - 18s 364ms/step - loss: 0.2715 - accuracy: 0.9171\n",
      "Epoch 33/1500\n",
      "50/50 [==============================] - 18s 368ms/step - loss: 0.2714 - accuracy: 0.9173\n",
      "Epoch 34/1500\n",
      "50/50 [==============================] - ETA: 0s - loss: 0.2753 - accuracy: 0.9162Restoring model weights from the end of the best epoch: 29.\n",
      "50/50 [==============================] - 18s 365ms/step - loss: 0.2753 - accuracy: 0.9162\n",
      "Epoch 34: early stopping\n"
     ]
    },
    {
     "name": "stderr",
     "output_type": "stream",
     "text": [
      "/usr/local/lib/python3.11/dist-packages/keras/src/engine/training.py:3103: UserWarning: You are saving your model as an HDF5 file via `model.save()`. This file format is considered legacy. We recommend using instead the native Keras format, e.g. `model.save('my_model.keras')`.\n",
      "  saving_api.save_model(\n"
     ]
    }
   ],
   "source": [
    "history = model.fit(\n",
    "    x=dataset_train,\n",
    "    epochs=EPOCHS,\n",
    "    steps_per_epoch=STEPS_PER_EPOCH,\n",
    "    initial_epoch=INITIAL_EPOCH,\n",
    "    callbacks=[\n",
    "        checkpoint_callback,\n",
    "        early_stopping_callback\n",
    "    ]\n",
    ")\n",
    "\n",
    "model_name = 'recipe_generation_rnn_raw.h5'\n",
    "model.save(model_name, save_format='h5')\n",
    "\n",
    "# Access the training history, including accuracy\n",
    "loss_values = history.history['loss']\n",
    "accuracy_values = history.history['accuracy'] "
   ]
  },
  {
   "cell_type": "code",
   "execution_count": 70,
   "id": "fe2b57ac-eab5-452a-a212-257f072d67c6",
   "metadata": {},
   "outputs": [
    {
     "data": {
      "image/png": "[encoded data removed]",
      "text/plain": [
       "<Figure size 640x480 with 1 Axes>"
      ]
     },
     "metadata": {},
     "output_type": "display_data"
    }
   ],
   "source": [
    "def render_training_history(training_history):\n",
    "    loss = training_history.history['loss']\n",
    "\n",
    "    plt.title('Loss')\n",
    "    plt.xlabel('Epoch')\n",
    "    plt.ylabel('Loss')\n",
    "    plt.plot(loss, label='Training set')\n",
    "    plt.legend()\n",
    "    plt.grid(linestyle='--', linewidth=1, alpha=0.5)\n",
    "    plt.show()\n",
    "\n",
    "render_training_history(history)"
   ]
  },
  {
   "cell_type": "code",
   "execution_count": 71,
   "id": "5baefbbb-14f8-477e-816e-5a8a4d2c5e8b",
   "metadata": {},
   "outputs": [
    {
     "name": "stdout",
     "output_type": "stream",
     "text": [
      "50/50 [==============================] - 8s 158ms/step - loss: 0.2599 - accuracy: 0.9204\n",
      "Loss: 0.2599284052848816,Accuracy: 92.04%\n"
     ]
    }
   ],
   "source": [
    "# accuracy = history.history['accuracy'][-1]\n",
    "# print(f'Final Training Accuracy: {accuracy * 100:.2f}%')\n",
    "loss, accuracy = model.evaluate(dataset_train, steps=STEPS_PER_EPOCH)\n",
    "\n",
    "# # print(f'Loss: {loss}, Accuracy: {accuracy * 100:.2f}%')\n",
    "\n",
    "\n",
    "print(f'Loss: {loss},Accuracy: {accuracy * 100:.2f}%')"
   ]
  },
  {
   "cell_type": "code",
   "execution_count": 72,
   "id": "cc27bbcf-47f9-4b38-b717-804645688add",
   "metadata": {},
   "outputs": [],
   "source": [
    "# val_data = list(dataset_train.as_numpy_iterator())\n",
    "# val_inputs = np.array([x for x, y in val_data])\n",
    "# val_targets = np.argmax(np.array([y for x, y in val_data]), axis=-1)\n",
    "\n",
    "# val_predict = np.argmax(model.predict(val_inputs), axis=-1)\n",
    "\n",
    "# # Compute precision\n",
    "# precision = precision_score(val_targets, val_predict, average='weighted')\n",
    "\n",
    "# # Print or use the precision value as needed\n",
    "# print(f'Precision: {precision:.4f}')\n",
    "\n",
    "# import numpy as np\n",
    "# from sklearn.metrics import precision_score, confusion_matrix\n",
    "# val_predictions = []\n",
    "# val_targets = []\n",
    "# for x_val, y_val in dataset_train:\n",
    "#     val_predictions.extend(np.argmax(model.predict(x_val), axis=-1))\n",
    "#     val_targets.extend(y_val.numpy())\n",
    "\n",
    "# # Calculate precision\n",
    "# precision = precision_score(val_targets, val_predictions, average='weighted')\n",
    "# print(f'Precision: {precision:.4f}')\n",
    "\n",
    "# # Calculate and display confusion matrix\n",
    "# conf_matrix = confusion_matrix(val_targets, val_predictions)\n",
    "# print('Confusion Matrix:')\n",
    "# print(conf_matrix)\n",
    "\n",
    "# val_predictions = [] \n",
    "# val_targets = []\n",
    "\n",
    "# for x_val, y_val in dataset_train:\n",
    "#     predictions = model(x_val)\n",
    "#     predictions = tf.argmax(predictions, axis=-1)\n",
    "#     val_predictions.extend(predictions.numpy())\n",
    "#     val_targets.extend(y_val.numpy())\n",
    "\n",
    "# # Calculate precision\n",
    "# precision = precision_score(val_targets, val_predictions, average='weighted')\n",
    "# print(f'Precision: {precision:.4f}')\n",
    "\n",
    "# # Calculate and display confusion matrix\n",
    "# conf_matrix = confusion_matrix(val_targets, val_predictions)\n",
    "# print('Confusion Matrix:')\n",
    "# print(conf_matrix)"
   ]
  },
  {
   "cell_type": "code",
   "execution_count": 73,
   "id": "070794b6-219f-45c8-a181-07ccc9a412dc",
   "metadata": {},
   "outputs": [
    {
     "data": {
      "text/plain": [
       "{'loss': [1.741512417793274,\n",
       "  1.279423475265503,\n",
       "  1.0008916854858398,\n",
       "  0.8742000460624695,\n",
       "  0.791394054889679,\n",
       "  0.6984485387802124,\n",
       "  0.639983057975769,\n",
       "  0.5936669111251831,\n",
       "  0.5425500273704529,\n",
       "  0.5042470693588257,\n",
       "  0.477173388004303,\n",
       "  0.4819999933242798,\n",
       "  0.44412773847579956,\n",
       "  0.432580828666687,\n",
       "  0.40729331970214844,\n",
       "  0.4004534184932709,\n",
       "  0.38388633728027344,\n",
       "  0.3681653141975403,\n",
       "  0.36740371584892273,\n",
       "  0.35352447628974915,\n",
       "  0.3578071892261505,\n",
       "  0.35853341221809387,\n",
       "  0.3727625608444214,\n",
       "  0.3654598295688629,\n",
       "  0.27925124764442444,\n",
       "  0.27680638432502747,\n",
       "  0.27598363161087036,\n",
       "  0.2694512605667114,\n",
       "  0.27522239089012146,\n",
       "  0.2718459963798523,\n",
       "  0.27154263854026794,\n",
       "  0.2713594436645508,\n",
       "  0.2752751410007477],\n",
       " 'accuracy': [0.613940954208374,\n",
       "  0.6603356003761292,\n",
       "  0.7163100242614746,\n",
       "  0.7465137243270874,\n",
       "  0.7703081369400024,\n",
       "  0.7975393533706665,\n",
       "  0.8159199953079224,\n",
       "  0.8283431529998779,\n",
       "  0.8428884148597717,\n",
       "  0.8539112210273743,\n",
       "  0.862202525138855,\n",
       "  0.8602637648582458,\n",
       "  0.8714022040367126,\n",
       "  0.874671220779419,\n",
       "  0.8815175294876099,\n",
       "  0.8835903406143188,\n",
       "  0.8881331086158752,\n",
       "  0.8922112584114075,\n",
       "  0.8925315737724304,\n",
       "  0.8963847160339355,\n",
       "  0.8946240544319153,\n",
       "  0.8941590785980225,\n",
       "  0.8914615511894226,\n",
       "  0.8921303153038025,\n",
       "  0.9153431057929993,\n",
       "  0.9159978032112122,\n",
       "  0.9162584543228149,\n",
       "  0.91789311170578,\n",
       "  0.9161059260368347,\n",
       "  0.9170781373977661,\n",
       "  0.9171437621116638,\n",
       "  0.9173027873039246,\n",
       "  0.9161843657493591]}"
      ]
     },
     "execution_count": 73,
     "metadata": {},
     "output_type": "execute_result"
    }
   ],
   "source": [
    "history.history"
   ]
  },
  {
   "cell_type": "code",
   "execution_count": null,
   "id": "dafc58da-d7df-40d1-8f38-fa0b3fe25cd2",
   "metadata": {},
   "outputs": [],
   "source": []
  },
  {
   "cell_type": "code",
   "execution_count": 74,
   "id": "10782b2d-28ce-49ad-a6f6-8ca83ae74879",
   "metadata": {},
   "outputs": [
    {
     "name": "stdout",
     "output_type": "stream",
     "text": [
      "Model: \"sequential_2\"\n",
      "_________________________________________________________________\n",
      " Layer (type)                Output Shape              Param #   \n",
      "=================================================================\n",
      " embedding_2 (Embedding)     (1, None, 256)            28928     \n",
      "                                                                 \n",
      " lstm_1 (LSTM)               (1, None, 1024)           5246976   \n",
      "                                                                 \n",
      " dense_1 (Dense)             (1, None, 113)            115825    \n",
      "                                                                 \n",
      "=================================================================\n",
      "Total params: 5391729 (20.57 MB)\n",
      "Trainable params: 5391729 (20.57 MB)\n",
      "Non-trainable params: 0 (0.00 Byte)\n",
      "_________________________________________________________________\n"
     ]
    }
   ],
   "source": [
    "# simplified_batch_size = 1\n",
    "# # Length of the vocabulary in chars.\n",
    "# vocab_size = VOCABULARY_SIZE\n",
    "\n",
    "# # The embedding dimension.\n",
    "# embedding_dim = 256\n",
    "\n",
    "# # Number of RNN units.\n",
    "# rnn_units = 1024\n",
    "\n",
    "# model_simplified = build_model(vocab_size, embedding_dim, rnn_units, simplified_batch_size)\n",
    "# model_simplified.load_weights(tf.train.latest_checkpoint(checkpoint_dir))\n",
    "# model_simplified.build(tf.TensorShape([simplified_batch_size, None]))\n",
    "\n",
    "# model_simplified.summary()\n",
    "\n",
    "simplified_batch_size = 1\n",
    "vocab_size = VOCABULARY_SIZE\n",
    "embedding_dim = 256\n",
    "rnn_units = 1024\n",
    "\n",
    "model_simplified = build_model(vocab_size, embedding_dim, rnn_units, simplified_batch_size)\n",
    "\n",
    "# Load the weights from the latest checkpoint\n",
    "model_simplified.load_weights(tf.train.latest_checkpoint(checkpoint_dir))\n",
    "\n",
    "# Print the model summary\n",
    "model_simplified.summary()\n"
   ]
  },
  {
   "cell_type": "code",
   "execution_count": 75,
   "id": "76d345af-fe7f-4864-9c77-359a4ca84bdb",
   "metadata": {},
   "outputs": [
    {
     "data": {
      "text/plain": [
       "(1, None)"
      ]
     },
     "execution_count": 75,
     "metadata": {},
     "output_type": "execute_result"
    }
   ],
   "source": [
    "model_simplified.input_shape"
   ]
  },
  {
   "cell_type": "code",
   "execution_count": 76,
   "id": "aa6e7064-e8b2-459c-9def-c5c938d18477",
   "metadata": {},
   "outputs": [],
   "source": [
    "def generate_text(model, start_string, num_generate = 1000, temperature=1.0):\n",
    "    # Evaluation step (generating text using the learned model)\n",
    "    \n",
    "    padded_start_string = STOP_WORD_TITLE + start_string\n",
    "\n",
    "    # Converting our start string to numbers (vectorizing).\n",
    "    input_indices = np.array(tokenizer.texts_to_sequences([padded_start_string]))\n",
    "\n",
    "    # Empty string to store our results.\n",
    "    text_generated = []\n",
    "\n",
    "    # Here batch size == 1.\n",
    "    model.reset_states()\n",
    "    for char_index in range(num_generate):\n",
    "        predictions = model(input_indices)\n",
    "        # remove the batch dimension\n",
    "        predictions = tf.squeeze(predictions, 0)\n",
    "\n",
    "        # Using a categorical distribution to predict the character returned by the model.\n",
    "        predictions = predictions / temperature\n",
    "        predicted_id = tf.random.categorical(\n",
    "            predictions,\n",
    "            num_samples=1\n",
    "        )[-1, 0].numpy()\n",
    "\n",
    "        # We pass the predicted character as the next input to the model\n",
    "        # along with the previous hidden state.\n",
    "        input_indices = tf.expand_dims([predicted_id], 0)\n",
    "        \n",
    "        next_character = tokenizer.sequences_to_texts(input_indices.numpy())[0]\n",
    "\n",
    "        text_generated.append(next_character)\n",
    "\n",
    "    return (padded_start_string + ''.join(text_generated))"
   ]
  },
  {
   "cell_type": "code",
   "execution_count": 77,
   "id": "daf3b865-31cb-41c8-a458-533e5f8ff432",
   "metadata": {},
   "outputs": [],
   "source": [
    "def generate_combinations(model):\n",
    "    recipe_length = 1000\n",
    "    try_letters = [ 'mushroom']\n",
    "    try_temperature = [1.0, 0.8, 0.4, 0.2]\n",
    "\n",
    "    for letter in try_letters:\n",
    "        for temperature in try_temperature:\n",
    "            generated_text = generate_text(\n",
    "                model,\n",
    "                start_string=letter,\n",
    "                num_generate = recipe_length,\n",
    "                temperature=temperature\n",
    "            )\n",
    "            print(f'Attempt: \"{letter}\" + {temperature}')\n",
    "            print('-----------------------------------')\n",
    "            print(generated_text)\n",
    "            print('\\n\\n')"
   ]
  },
  {
   "cell_type": "code",
   "execution_count": 78,
   "id": "1d2f27ca-7304-4e06-8115-ba028e1cf346",
   "metadata": {},
   "outputs": [
    {
     "name": "stdout",
     "output_type": "stream",
     "text": [
      "Attempt: \"mushroom\" + 1.0\n",
      "-----------------------------------\n",
      "📗 mushroomDVkm}supers and marinated over the mozzarella chips \n",
      "• salt to taste (optional) \n",
      "• 1 teaspoon salt \n",
      "• 1 teaspoon ground black pepper \n",
      "• 1 teaspoon Chyes \n",
      "\n",
      "📝\n",
      "\n",
      "▪︎ Cook the shredded chicken breasts in boiling water if desired and ground the mizza mixture. Season with the yralkon ground lime rice. Spoon into 15 pieck before serving.\n",
      "␣␣␣␣␣␣␣␣␣␣␣␣␣␣␣␣␣␣␣␣␣␣␣␣␣␣␣␣␣␣␣␣␣␣␣␣␣␣␣␣␣␣␣␣␣␣␣␣␣␣␣␣␣␣␣␣␣␣␣␣␣␣␣␣␣␣␣␣␣␣␣␣␣␣␣␣␣␣␣␣␣␣␣␣␣␣␣␣␣␣␣␣␣␣␣␣␣␣␣␣␣␣␣␣␣␣␣␣␣␣␣␣␣␣␣␣␣␣␣␣␣␣␣␣␣␣␣␣␣␣␣␣␣␣␣␣␣␣␣␣␣␣␣␣␣␣␣␣␣␣␣␣␣␣␣␣␣␣␣␣␣␣␣␣␣␣␣␣␣␣␣␣␣␣␣␣␣␣␣␣␣␣␣␣␣␣␣␣␣␣␣␣␣␣␣␣␣␣␣␣␣␣␣␣␣␣␣␣␣␣␣␣␣␣␣␣␣␣␣␣␣␣␣␣␣␣␣␣␣␣␣␣␣␣␣␣␣␣␣␣␣␣␣␣␣␣␣␣␣␣␣␣␣␣␣␣␣␣␣␣␣␣␣␣␣␣␣␣␣␣␣␣␣␣␣␣␣␣␣␣␣␣␣␣␣␣␣␣␣␣␣␣␣␣␣␣␣␣␣␣␣␣␣␣␣␣␣␣␣␣␣␣␣␣␣␣␣␣␣␣␣␣␣␣␣␣␣␣␣␣␣␣␣␣␣␣␣␣␣␣␣␣␣␣␣␣␣␣␣␣␣␣␣␣␣␣␣␣␣␣␣␣␣␣␣␣␣␣␣␣␣␣␣␣␣␣␣␣␣␣␣␣␣␣␣␣␣␣␣␣␣␣␣␣␣␣␣␣␣␣␣␣␣␣␣␣␣␣␣␣␣␣␣␣␣␣␣␣␣␣␣␣␣␣␣␣␣␣␣␣␣␣␣␣␣␣␣␣␣␣␣␣␣␣␣␣␣␣␣␣␣␣␣␣␣␣␣␣␣␣␣␣␣␣␣␣␣␣␣␣␣␣␣␣␣␣␣␣␣␣␣␣␣␣␣␣␣␣␣␣␣␣␣␣␣␣␣␣␣␣␣␣␣␣␣␣␣␣␣␣␣␣␣␣␣␣␣␣␣␣␣␣␣␣␣␣␣␣␣␣␣␣␣␣␣␣␣␣␣␣␣␣␣␣␣␣␣␣␣␣␣␣␣␣␣␣␣␣␣␣␣␣␣␣␣␣␣␣␣␣␣␣␣␣␣␣␣␣␣␣␣␣␣␣␣␣␣␣␣␣␣␣␣␣␣␣␣␣␣␣␣␣␣␣␣␣␣␣␣␣␣␣␣␣␣␣␣␣␣␣␣␣␣␣␣␣␣␣␣␣␣␣␣␣␣␣␣␣␣␣␣␣␣␣␣␣␣␣␣␣␣␣␣␣␣␣␣␣␣␣␣␣␣␣␣␣␣␣␣\n",
      "\n",
      "\n",
      "\n",
      "Attempt: \"mushroom\" + 0.8\n",
      "-----------------------------------\n",
      "📗 mushroomx°{E3 955055%44;1á%18© xx93;55;384454;4554253,5455ñ;2 0}045;4 x18  R5S848858858%8985; %™.␣␣␣␣␣␣␣␣␣␣␣␣␣␣␣␣␣␣␣␣␣␣␣␣␣␣␣␣␣␣␣␣␣␣␣␣␣␣␣␣␣␣␣␣␣␣␣␣␣␣␣␣␣␣␣␣␣␣␣␣␣␣␣␣␣␣␣␣␣␣␣␣␣␣␣␣␣␣␣␣␣␣␣␣␣␣␣␣␣␣␣␣␣␣␣␣␣␣␣␣␣␣␣␣␣␣␣␣␣␣␣␣␣␣␣␣␣␣␣␣␣␣␣␣␣␣␣␣␣␣␣␣␣␣␣␣␣␣␣␣␣␣␣␣␣␣␣␣␣␣␣␣␣␣␣␣␣␣␣␣␣␣␣␣␣␣␣␣␣␣␣␣␣␣␣␣␣␣␣␣␣␣␣␣␣␣␣␣␣␣␣␣␣␣␣␣␣␣␣␣␣␣␣␣␣␣␣␣␣␣␣␣␣␣␣␣␣␣␣␣␣␣␣␣␣␣␣␣␣␣␣␣␣␣␣␣␣␣␣␣␣␣␣␣␣␣␣␣␣␣␣␣␣␣␣␣␣␣␣␣␣␣␣␣␣␣␣␣␣␣␣␣␣␣␣␣␣␣␣␣␣␣␣␣␣␣␣␣␣␣␣␣␣␣␣␣␣␣␣␣␣␣␣␣␣␣␣␣␣␣␣␣␣␣␣␣␣␣␣␣␣␣␣␣␣␣␣␣␣␣␣␣␣␣␣␣␣␣␣␣␣␣␣␣␣␣␣␣␣␣␣␣␣␣␣␣␣␣␣␣␣␣␣␣␣␣␣␣␣␣␣␣␣␣␣␣␣␣␣␣␣␣␣␣␣␣␣␣␣␣␣␣␣␣␣␣␣␣␣␣␣␣␣␣␣␣␣␣␣␣␣␣␣␣␣␣␣␣␣␣␣␣␣␣␣␣␣␣␣␣␣␣␣␣␣␣␣␣␣␣␣␣␣␣␣␣␣␣␣␣␣␣␣␣␣␣␣␣␣␣␣␣␣␣␣␣␣␣␣␣␣␣␣␣␣␣␣␣␣␣␣␣␣␣␣␣␣␣␣␣␣␣␣␣␣␣␣␣␣␣␣␣␣␣␣␣␣␣␣␣␣␣␣␣␣␣␣␣␣␣␣␣␣␣␣␣␣␣␣␣␣␣␣␣␣␣␣␣␣␣␣␣␣␣␣␣␣␣␣␣␣␣␣␣␣␣␣␣␣␣␣␣␣␣␣␣␣␣␣␣␣␣␣␣␣␣␣␣␣␣␣␣␣␣␣␣␣␣␣␣␣␣␣␣␣␣␣␣␣␣␣␣␣␣␣␣␣␣␣␣␣␣␣␣␣␣␣␣␣␣␣␣␣␣␣␣␣␣␣␣␣␣␣␣␣␣␣␣␣␣␣␣␣␣␣␣␣␣␣␣␣␣␣␣␣␣␣␣␣␣␣␣␣␣␣␣␣␣␣␣␣␣␣␣␣␣␣␣␣␣␣␣␣␣␣␣␣␣␣␣␣␣␣␣␣␣␣␣␣␣␣␣␣␣␣␣␣␣␣␣␣␣␣␣␣␣␣␣␣␣␣␣␣␣␣␣␣␣␣␣␣␣␣␣␣␣␣␣␣␣␣␣␣␣␣␣␣␣␣␣␣␣␣␣␣␣␣␣␣␣␣␣␣␣␣␣␣␣␣␣␣␣␣␣␣␣␣␣␣␣␣␣␣␣␣␣␣␣␣␣␣␣␣␣␣␣␣␣␣␣␣␣␣␣␣␣␣␣␣␣␣␣␣␣␣␣␣␣␣␣␣␣␣␣␣␣␣␣␣␣␣␣␣␣␣␣␣␣␣␣␣␣␣␣␣␣␣␣␣␣␣␣␣␣␣␣␣␣␣␣␣␣␣␣␣␣␣␣␣␣␣␣␣␣␣␣␣␣␣␣␣␣␣␣␣␣␣␣␣␣␣␣␣␣␣␣␣␣␣␣␣␣␣␣␣␣␣␣␣␣␣\n",
      "\n",
      "\n",
      "\n",
      "Attempt: \"mushroom\" + 0.4\n",
      "-----------------------------------\n",
      "📗 mushroomd½©Kñ03 2355%%54%z%4534 553855%55383;4%2; 5 23 3855%%5542534%4%545534;5%%28355545455334555%%4344; 2530584%55%4R48858%2454;. 75 250%5%5%4;4485%%) 4 2005%5°%555%4.␣␣␣␣␣␣␣␣␣␣␣␣␣␣␣␣␣␣␣␣␣␣␣␣␣␣␣␣␣␣␣␣␣␣␣␣␣␣␣␣␣␣␣␣␣␣␣␣␣␣␣␣␣␣␣␣␣␣␣␣␣␣␣␣␣␣␣␣␣␣␣␣␣␣␣␣␣␣␣␣␣␣␣␣␣␣␣␣␣␣␣␣␣␣␣␣␣␣␣␣␣␣␣␣␣␣␣␣␣␣␣␣␣␣␣␣␣␣␣␣␣␣␣␣␣␣␣␣␣␣␣␣␣␣␣␣␣␣␣␣␣␣␣␣␣␣␣␣␣␣␣␣␣␣␣␣␣␣␣␣␣␣␣␣␣␣␣␣␣␣␣␣␣␣␣␣␣␣␣␣␣␣␣␣␣␣␣␣␣␣␣␣␣␣␣␣␣␣␣␣␣␣␣␣␣␣␣␣␣␣␣␣␣␣␣␣␣␣␣␣␣␣␣␣␣␣␣␣␣␣␣␣␣␣␣␣␣␣␣␣␣␣␣␣␣␣␣␣␣␣␣␣␣␣␣␣␣␣␣␣␣␣␣␣␣␣␣␣␣␣␣␣␣␣␣␣␣␣␣␣␣␣␣␣␣␣␣␣␣␣␣␣␣␣␣␣␣␣␣␣␣␣␣␣␣␣␣␣␣␣␣␣␣␣␣␣␣␣␣␣␣␣␣␣␣␣␣␣␣␣␣␣␣␣␣␣␣␣␣␣␣␣␣␣␣␣␣␣␣␣␣␣␣␣␣␣␣␣␣␣␣␣␣␣␣␣␣␣␣␣␣␣␣␣␣␣␣␣␣␣␣␣␣␣␣␣␣␣␣␣␣␣␣␣␣␣␣␣␣␣␣␣␣␣␣␣␣␣␣␣␣␣␣␣␣␣␣␣␣␣␣␣␣␣␣␣␣␣␣␣␣␣␣␣␣␣␣␣␣␣␣␣␣␣␣␣␣␣␣␣␣␣␣␣␣␣␣␣␣␣␣␣␣␣␣␣␣␣␣␣␣␣␣␣␣␣␣␣␣␣␣␣␣␣␣␣␣␣␣␣␣␣␣␣␣␣␣␣␣␣␣␣␣␣␣␣␣␣␣␣␣␣␣␣␣␣␣␣␣␣␣␣␣␣␣␣␣␣␣␣␣␣␣␣␣␣␣␣␣␣␣␣␣␣␣␣␣␣␣␣␣␣␣␣␣␣␣␣␣␣␣␣␣␣␣␣␣␣␣␣␣␣␣␣␣␣␣␣␣␣␣␣␣␣␣␣␣␣␣␣␣␣␣␣␣␣␣␣␣␣␣␣␣␣␣␣␣␣␣␣␣␣␣␣␣␣␣␣␣␣␣␣␣␣␣␣␣␣␣␣␣␣␣␣␣␣␣␣␣␣␣␣␣␣␣␣␣␣␣␣␣␣␣␣␣␣␣␣␣␣␣␣␣␣␣␣␣␣␣␣␣␣␣␣␣␣␣␣␣␣␣␣␣␣␣␣␣␣␣␣␣␣␣␣␣␣␣␣␣␣␣␣␣␣␣␣␣␣␣␣␣␣␣␣␣␣␣␣␣␣␣␣␣␣␣␣␣␣␣␣␣␣␣␣␣␣␣␣␣␣␣␣␣␣␣␣␣␣␣␣␣␣␣␣␣␣␣␣␣␣␣␣␣␣␣␣␣␣␣␣␣␣␣␣␣␣␣␣␣␣␣␣␣␣␣␣␣␣␣␣␣␣␣␣␣␣␣␣␣␣␣␣␣␣␣␣␣␣␣␣␣␣␣␣␣␣␣␣␣␣␣␣␣␣␣␣␣␣␣␣␣␣␣␣␣␣␣␣␣\n",
      "\n",
      "\n",
      "\n",
      "Attempt: \"mushroom\" + 0.2\n",
      "-----------------------------------\n",
      "📗 mushroomd333455554%555554455545555544554545444%5555%55555554;4%4855 045554%4%%25 255 455%555554;454;438554%45555554554444445454;4;4;4% 5 550%5%5555355554;4%48455555%%43445454444%44;4 0455 058558554554;455555553455554545555445555544554455544444454;44488  0455%58885585%%4;4; 2 855%5558554554;4555544455444455544444454444454;48554555854;485554555585;%5588585855455555555544555554555455544344544%555%4%4 545555%%%44445555%%%2% 0 850%%55555355545555555344534454445445455455445544%5%4; 58 x585%558453545555555444544555554344444;44;84855%%5%%␣␣␣␣␣␣␣␣␣␣␣␣␣␣␣␣␣␣␣␣␣␣␣␣␣␣␣␣␣␣␣␣␣␣␣␣␣␣␣␣␣␣␣␣␣␣␣␣␣␣␣␣␣␣␣␣␣␣␣␣␣␣␣␣␣␣␣␣␣␣␣␣␣␣␣␣␣␣␣␣␣␣␣␣␣␣␣␣␣␣␣␣␣␣␣␣␣␣␣␣␣␣␣␣␣␣␣␣␣␣␣␣␣␣␣␣␣␣␣␣␣␣␣␣␣␣␣␣␣␣␣␣␣␣␣␣␣␣␣␣␣␣␣␣␣␣␣␣␣␣␣␣␣␣␣␣␣␣␣␣␣␣␣␣␣␣␣␣␣␣␣␣␣␣␣␣␣␣␣␣␣␣␣␣␣␣␣␣␣␣␣␣␣␣␣␣␣␣␣␣␣␣␣␣␣␣␣␣␣␣␣␣␣␣␣␣␣␣␣␣␣␣␣␣␣␣␣␣␣␣␣␣␣␣␣␣␣␣␣␣␣␣␣␣␣␣␣␣␣␣␣␣␣␣␣␣␣␣␣␣␣␣␣␣␣␣␣␣␣␣␣␣␣␣␣␣␣␣␣␣␣␣␣␣␣␣␣␣␣␣␣␣␣␣␣␣␣␣␣␣␣␣␣␣␣␣␣␣␣␣␣␣␣␣␣␣␣␣␣␣␣␣␣␣␣␣␣␣␣␣␣␣␣␣␣␣␣␣␣␣␣␣␣␣␣␣␣␣␣␣␣␣␣␣␣␣␣␣␣␣␣␣␣␣␣␣␣␣␣␣␣␣␣␣␣␣␣␣␣␣␣␣␣␣␣␣␣␣␣␣␣␣␣␣␣␣␣␣␣␣␣␣␣␣␣␣␣␣␣␣␣␣␣␣␣␣␣␣␣␣␣␣␣␣␣␣␣␣␣␣␣␣␣␣␣␣␣␣␣␣␣␣␣␣␣␣␣␣␣␣␣␣␣␣␣␣␣␣␣␣␣␣␣␣␣␣␣␣␣␣␣␣\n",
      "\n",
      "\n",
      "\n"
     ]
    }
   ],
   "source": [
    "generate_combinations(model_simplified)"
   ]
  },
  {
   "cell_type": "code",
   "execution_count": null,
   "id": "dc5a5da6-7130-4698-978c-ee6138f9923d",
   "metadata": {},
   "outputs": [],
   "source": []
  },
  {
   "cell_type": "code",
   "execution_count": 79,
   "id": "7c3943cc-bc38-4933-ac04-776c71602f10",
   "metadata": {},
   "outputs": [
    {
     "name": "stdout",
     "output_type": "stream",
     "text": [
      "Loss values: [1.741512417793274, 1.279423475265503, 1.0008916854858398, 0.8742000460624695, 0.791394054889679, 0.6984485387802124, 0.639983057975769, 0.5936669111251831, 0.5425500273704529, 0.5042470693588257, 0.477173388004303, 0.4819999933242798, 0.44412773847579956, 0.432580828666687, 0.40729331970214844, 0.4004534184932709, 0.38388633728027344, 0.3681653141975403, 0.36740371584892273, 0.35352447628974915, 0.3578071892261505, 0.35853341221809387, 0.3727625608444214, 0.3654598295688629, 0.27925124764442444, 0.27680638432502747, 0.27598363161087036, 0.2694512605667114, 0.27522239089012146, 0.2718459963798523, 0.27154263854026794, 0.2713594436645508, 0.2752751410007477]\n",
      "Accuracy values: [0.613940954208374, 0.6603356003761292, 0.7163100242614746, 0.7465137243270874, 0.7703081369400024, 0.7975393533706665, 0.8159199953079224, 0.8283431529998779, 0.8428884148597717, 0.8539112210273743, 0.862202525138855, 0.8602637648582458, 0.8714022040367126, 0.874671220779419, 0.8815175294876099, 0.8835903406143188, 0.8881331086158752, 0.8922112584114075, 0.8925315737724304, 0.8963847160339355, 0.8946240544319153, 0.8941590785980225, 0.8914615511894226, 0.8921303153038025, 0.9153431057929993, 0.9159978032112122, 0.9162584543228149, 0.91789311170578, 0.9161059260368347, 0.9170781373977661, 0.9171437621116638, 0.9173027873039246, 0.9161843657493591]\n"
     ]
    }
   ],
   "source": [
    "\n",
    "\n",
    "# Print or use the history values as needed\n",
    "print(f'Loss values: {loss_values}')\n",
    "print(f'Accuracy values: {accuracy_values}')\n"
   ]
  },
  {
   "cell_type": "code",
   "execution_count": 80,
   "id": "204124f6-d440-4edf-b199-1b3bb4512a62",
   "metadata": {},
   "outputs": [
    {
     "data": {
      "text/plain": [
       "<function tensorflow.python.debug.lib.check_numerics_callback.enable_check_numerics(stack_height_limit=30, path_length_limit=50)>"
      ]
     },
     "execution_count": 80,
     "metadata": {},
     "output_type": "execute_result"
    }
   ],
   "source": [
    "tf.keras.backend.clear_session()\n",
    "\n",
    "tf.debugging.enable_check_numerics\n"
   ]
  },
  {
   "cell_type": "code",
   "execution_count": 86,
   "id": "558a2076-1f2d-41c2-bc07-189f443e38c0",
   "metadata": {},
   "outputs": [
    {
     "name": "stderr",
     "output_type": "stream",
     "text": [
      "2023-12-26 10:28:40.281170: I external/local_xla/xla/stream_executor/stream.cc:1986] INTERNAL: Unknown error\n",
      "2023-12-26 10:28:40.281218: I external/local_xla/xla/stream_executor/stream.cc:1990] [stream=0x852d730,impl=0x2484d2f0] INTERNAL: stream did not block host until done; was already in an error state\n"
     ]
    },
    {
     "ename": "InternalError",
     "evalue": "stream did not block host until done; was already in an error state",
     "output_type": "error",
     "traceback": [
      "\u001b[0;31m---------------------------------------------------------------------------\u001b[0m",
      "\u001b[0;31mInternalError\u001b[0m                             Traceback (most recent call last)",
      "Cell \u001b[0;32mIn[86], line 14\u001b[0m\n\u001b[1;32m     11\u001b[0m y_val \u001b[38;5;241m=\u001b[39m np\u001b[38;5;241m.\u001b[39marray(y_val)\n\u001b[1;32m     13\u001b[0m \u001b[38;5;66;03m# Get model predictions on the validation set\u001b[39;00m\n\u001b[0;32m---> 14\u001b[0m y_val_probabilities \u001b[38;5;241m=\u001b[39m \u001b[43mmodel\u001b[49m\u001b[38;5;241;43m.\u001b[39;49m\u001b[43mpredict\u001b[49m\u001b[43m(\u001b[49m\u001b[43mx_val\u001b[49m\u001b[43m)\u001b[49m\n\u001b[1;32m     16\u001b[0m \u001b[38;5;66;03m# Assuming the number of classes is known\u001b[39;00m\n\u001b[1;32m     17\u001b[0m num_classes \u001b[38;5;241m=\u001b[39m STEPS_PER_EPOCH  \u001b[38;5;66;03m# Replace with the actual number of classes\u001b[39;00m\n",
      "File \u001b[0;32m/usr/local/lib/python3.11/dist-packages/keras/src/utils/traceback_utils.py:70\u001b[0m, in \u001b[0;36mfilter_traceback.<locals>.error_handler\u001b[0;34m(*args, **kwargs)\u001b[0m\n\u001b[1;32m     67\u001b[0m     filtered_tb \u001b[38;5;241m=\u001b[39m _process_traceback_frames(e\u001b[38;5;241m.\u001b[39m__traceback__)\n\u001b[1;32m     68\u001b[0m     \u001b[38;5;66;03m# To get the full stack trace, call:\u001b[39;00m\n\u001b[1;32m     69\u001b[0m     \u001b[38;5;66;03m# `tf.debugging.disable_traceback_filtering()`\u001b[39;00m\n\u001b[0;32m---> 70\u001b[0m     \u001b[38;5;28;01mraise\u001b[39;00m e\u001b[38;5;241m.\u001b[39mwith_traceback(filtered_tb) \u001b[38;5;28;01mfrom\u001b[39;00m \u001b[38;5;28;01mNone\u001b[39;00m\n\u001b[1;32m     71\u001b[0m \u001b[38;5;28;01mfinally\u001b[39;00m:\n\u001b[1;32m     72\u001b[0m     \u001b[38;5;28;01mdel\u001b[39;00m filtered_tb\n",
      "File \u001b[0;32m/usr/local/lib/python3.11/dist-packages/tensorflow/python/framework/ops.py:362\u001b[0m, in \u001b[0;36m_EagerTensorBase._numpy\u001b[0;34m(self)\u001b[0m\n\u001b[1;32m    360\u001b[0m   \u001b[38;5;28;01mreturn\u001b[39;00m \u001b[38;5;28mself\u001b[39m\u001b[38;5;241m.\u001b[39m_numpy_internal()\n\u001b[1;32m    361\u001b[0m \u001b[38;5;28;01mexcept\u001b[39;00m core\u001b[38;5;241m.\u001b[39m_NotOkStatusException \u001b[38;5;28;01mas\u001b[39;00m e:  \u001b[38;5;66;03m# pylint: disable=protected-access\u001b[39;00m\n\u001b[0;32m--> 362\u001b[0m   \u001b[38;5;28;01mraise\u001b[39;00m core\u001b[38;5;241m.\u001b[39m_status_to_exception(e) \u001b[38;5;28;01mfrom\u001b[39;00m \u001b[38;5;28;01mNone\u001b[39;00m\n",
      "\u001b[0;31mInternalError\u001b[0m: stream did not block host until done; was already in an error state"
     ]
    }
   ],
   "source": []
  },
  {
   "cell_type": "code",
   "execution_count": null,
   "id": "d464a5a3-6f43-413a-b3c5-9c6904753167",
   "metadata": {},
   "outputs": [],
   "source": []
  },
  {
   "cell_type": "code",
   "execution_count": 85,
   "id": "76f64f80-5067-4e15-9e1d-c69c28854bec",
   "metadata": {},
   "outputs": [
    {
     "ename": "ValueError",
     "evalue": "When providing an infinite dataset, you must specify the number of steps to run (if you did not intend to create an infinite dataset, make sure to not call `repeat()` on the dataset).",
     "output_type": "error",
     "traceback": [
      "\u001b[0;31m---------------------------------------------------------------------------\u001b[0m",
      "\u001b[0;31mValueError\u001b[0m                                Traceback (most recent call last)",
      "Cell \u001b[0;32mIn[85], line 1\u001b[0m\n\u001b[0;32m----> 1\u001b[0m val_predict \u001b[38;5;241m=\u001b[39m np\u001b[38;5;241m.\u001b[39margmax(\u001b[43mmodel\u001b[49m\u001b[38;5;241;43m.\u001b[39;49m\u001b[43mpredict\u001b[49m\u001b[43m(\u001b[49m\u001b[43mdataset_train\u001b[49m\u001b[43m)\u001b[49m, axis\u001b[38;5;241m=\u001b[39m\u001b[38;5;241m-\u001b[39m\u001b[38;5;241m1\u001b[39m)\n\u001b[1;32m      2\u001b[0m val_targ \u001b[38;5;241m=\u001b[39m dataset_train\u001b[38;5;241m.\u001b[39mmap(\u001b[38;5;28;01mlambda\u001b[39;00m x, y: y)\n\u001b[1;32m      3\u001b[0m precision \u001b[38;5;241m=\u001b[39m precision_score(val_targ, val_predict, average\u001b[38;5;241m=\u001b[39m\u001b[38;5;124m'\u001b[39m\u001b[38;5;124mweighted\u001b[39m\u001b[38;5;124m'\u001b[39m)\n",
      "File \u001b[0;32m/usr/local/lib/python3.11/dist-packages/keras/src/utils/traceback_utils.py:70\u001b[0m, in \u001b[0;36mfilter_traceback.<locals>.error_handler\u001b[0;34m(*args, **kwargs)\u001b[0m\n\u001b[1;32m     67\u001b[0m     filtered_tb \u001b[38;5;241m=\u001b[39m _process_traceback_frames(e\u001b[38;5;241m.\u001b[39m__traceback__)\n\u001b[1;32m     68\u001b[0m     \u001b[38;5;66;03m# To get the full stack trace, call:\u001b[39;00m\n\u001b[1;32m     69\u001b[0m     \u001b[38;5;66;03m# `tf.debugging.disable_traceback_filtering()`\u001b[39;00m\n\u001b[0;32m---> 70\u001b[0m     \u001b[38;5;28;01mraise\u001b[39;00m e\u001b[38;5;241m.\u001b[39mwith_traceback(filtered_tb) \u001b[38;5;28;01mfrom\u001b[39;00m \u001b[38;5;28;01mNone\u001b[39;00m\n\u001b[1;32m     71\u001b[0m \u001b[38;5;28;01mfinally\u001b[39;00m:\n\u001b[1;32m     72\u001b[0m     \u001b[38;5;28;01mdel\u001b[39;00m filtered_tb\n",
      "File \u001b[0;32m/usr/local/lib/python3.11/dist-packages/keras/src/engine/data_adapter.py:834\u001b[0m, in \u001b[0;36mDatasetAdapter._validate_args\u001b[0;34m(self, y, sample_weights, steps, pss_evaluation_shards)\u001b[0m\n\u001b[1;32m    828\u001b[0m     \u001b[38;5;28;01mraise\u001b[39;00m \u001b[38;5;167;01mValueError\u001b[39;00m(\n\u001b[1;32m    829\u001b[0m         \u001b[38;5;124m\"\u001b[39m\u001b[38;5;124mWhen performing exact evaluation, the dataset \u001b[39m\u001b[38;5;124m\"\u001b[39m\n\u001b[1;32m    830\u001b[0m         \u001b[38;5;124m\"\u001b[39m\u001b[38;5;124mmust be finite. Make sure not to call `repeat()` \u001b[39m\u001b[38;5;124m\"\u001b[39m\n\u001b[1;32m    831\u001b[0m         \u001b[38;5;124m\"\u001b[39m\u001b[38;5;124mon your dataset.\u001b[39m\u001b[38;5;124m\"\u001b[39m\n\u001b[1;32m    832\u001b[0m     )\n\u001b[1;32m    833\u001b[0m \u001b[38;5;28;01melse\u001b[39;00m:\n\u001b[0;32m--> 834\u001b[0m     \u001b[38;5;28;01mraise\u001b[39;00m \u001b[38;5;167;01mValueError\u001b[39;00m(\n\u001b[1;32m    835\u001b[0m         \u001b[38;5;124m\"\u001b[39m\u001b[38;5;124mWhen providing an infinite dataset, you must \u001b[39m\u001b[38;5;124m\"\u001b[39m\n\u001b[1;32m    836\u001b[0m         \u001b[38;5;124m\"\u001b[39m\u001b[38;5;124mspecify the number of steps to run (if you did \u001b[39m\u001b[38;5;124m\"\u001b[39m\n\u001b[1;32m    837\u001b[0m         \u001b[38;5;124m\"\u001b[39m\u001b[38;5;124mnot intend to create an infinite dataset, make \u001b[39m\u001b[38;5;124m\"\u001b[39m\n\u001b[1;32m    838\u001b[0m         \u001b[38;5;124m\"\u001b[39m\u001b[38;5;124msure to not call `repeat()` on the dataset).\u001b[39m\u001b[38;5;124m\"\u001b[39m\n\u001b[1;32m    839\u001b[0m     )\n",
      "\u001b[0;31mValueError\u001b[0m: When providing an infinite dataset, you must specify the number of steps to run (if you did not intend to create an infinite dataset, make sure to not call `repeat()` on the dataset)."
     ]
    }
   ],
   "source": [
    "\n",
    "val_predict = np.argmax(model.predict(dataset_train), axis=-1)\n",
    "val_targ = dataset_train.map(lambda x, y: y)\n",
    "precision = precision_score(val_targ, val_predict, average='weighted')\n",
    "recall = recall_score(val_targ, val_predict, average='weighted')\n",
    "f1 = f1_score(val_targ, val_predict, average='weighted')\n",
    "\n",
    "print(f'Precision: {precision:.4f}, Recall: {recall:.4f}, F1: {f1:.4f}')"
   ]
  },
  {
   "cell_type": "code",
   "execution_count": null,
   "id": "8370eb60-201b-4028-9745-eafe2d7fb953",
   "metadata": {},
   "outputs": [],
   "source": []
  }
 ],
 "metadata": {
  "kernelspec": {
   "display_name": "Python 3 (ipykernel)",
   "language": "python",
   "name": "python3"
  },
  "language_info": {
   "codemirror_mode": {
    "name": "ipython",
    "version": 3
   },
   "file_extension": ".py",
   "mimetype": "text/x-python",
   "name": "python",
   "nbconvert_exporter": "python",
   "pygments_lexer": "ipython3",
   "version": "3.11.0rc1"
  }
 },
 "nbformat": 4,
 "nbformat_minor": 5
}
